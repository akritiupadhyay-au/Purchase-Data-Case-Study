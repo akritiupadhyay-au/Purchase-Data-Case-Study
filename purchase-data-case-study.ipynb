{
 "cells": [
  {
   "cell_type": "code",
   "execution_count": 2,
   "id": "360ff3d0",
   "metadata": {
    "execution": {
     "iopub.execute_input": "2023-02-28T05:15:09.760359Z",
     "iopub.status.busy": "2023-02-28T05:15:09.759950Z",
     "iopub.status.idle": "2023-02-28T05:15:10.903470Z",
     "shell.execute_reply": "2023-02-28T05:15:10.902269Z"
    },
    "papermill": {
     "duration": 1.164762,
     "end_time": "2023-02-28T05:15:10.906517",
     "exception": false,
     "start_time": "2023-02-28T05:15:09.741755",
     "status": "completed"
    },
    "tags": []
   },
   "outputs": [],
   "source": [
    "import numpy as np\n",
    "import pandas as pd\n",
    "import seaborn as sns\n",
    "import matplotlib.pyplot as plt"
   ]
  },
  {
   "cell_type": "code",
   "execution_count": 3,
   "id": "7a23bf83",
   "metadata": {
    "execution": {
     "iopub.execute_input": "2023-02-28T05:15:10.942478Z",
     "iopub.status.busy": "2023-02-28T05:15:10.942099Z",
     "iopub.status.idle": "2023-02-28T05:15:11.952791Z",
     "shell.execute_reply": "2023-02-28T05:15:11.951481Z"
    },
    "papermill": {
     "duration": 1.031028,
     "end_time": "2023-02-28T05:15:11.955567",
     "exception": false,
     "start_time": "2023-02-28T05:15:10.924539",
     "status": "completed"
    },
    "tags": []
   },
   "outputs": [
    {
     "data": {
      "text/html": [
       "<div>\n",
       "<style scoped>\n",
       "    .dataframe tbody tr th:only-of-type {\n",
       "        vertical-align: middle;\n",
       "    }\n",
       "\n",
       "    .dataframe tbody tr th {\n",
       "        vertical-align: top;\n",
       "    }\n",
       "\n",
       "    .dataframe thead th {\n",
       "        text-align: right;\n",
       "    }\n",
       "</style>\n",
       "<table border=\"1\" class=\"dataframe\">\n",
       "  <thead>\n",
       "    <tr style=\"text-align: right;\">\n",
       "      <th></th>\n",
       "      <th>User_ID</th>\n",
       "      <th>Product_ID</th>\n",
       "      <th>Gender</th>\n",
       "      <th>Age</th>\n",
       "      <th>Occupation</th>\n",
       "      <th>City_Category</th>\n",
       "      <th>Stay_In_Current_City_Years</th>\n",
       "      <th>Marital_Status</th>\n",
       "      <th>Product_Category_1</th>\n",
       "      <th>Product_Category_2</th>\n",
       "      <th>Product_Category_3</th>\n",
       "      <th>Purchase</th>\n",
       "    </tr>\n",
       "  </thead>\n",
       "  <tbody>\n",
       "    <tr>\n",
       "      <th>0</th>\n",
       "      <td>1000001</td>\n",
       "      <td>P00069042</td>\n",
       "      <td>F</td>\n",
       "      <td>0-17</td>\n",
       "      <td>10</td>\n",
       "      <td>A</td>\n",
       "      <td>2</td>\n",
       "      <td>0</td>\n",
       "      <td>3</td>\n",
       "      <td>NaN</td>\n",
       "      <td>NaN</td>\n",
       "      <td>8370</td>\n",
       "    </tr>\n",
       "    <tr>\n",
       "      <th>1</th>\n",
       "      <td>1000001</td>\n",
       "      <td>P00248942</td>\n",
       "      <td>F</td>\n",
       "      <td>0-17</td>\n",
       "      <td>10</td>\n",
       "      <td>A</td>\n",
       "      <td>2</td>\n",
       "      <td>0</td>\n",
       "      <td>1</td>\n",
       "      <td>6.0</td>\n",
       "      <td>14.0</td>\n",
       "      <td>15200</td>\n",
       "    </tr>\n",
       "    <tr>\n",
       "      <th>2</th>\n",
       "      <td>1000001</td>\n",
       "      <td>P00087842</td>\n",
       "      <td>F</td>\n",
       "      <td>0-17</td>\n",
       "      <td>10</td>\n",
       "      <td>A</td>\n",
       "      <td>2</td>\n",
       "      <td>0</td>\n",
       "      <td>12</td>\n",
       "      <td>NaN</td>\n",
       "      <td>NaN</td>\n",
       "      <td>1422</td>\n",
       "    </tr>\n",
       "    <tr>\n",
       "      <th>3</th>\n",
       "      <td>1000001</td>\n",
       "      <td>P00085442</td>\n",
       "      <td>F</td>\n",
       "      <td>0-17</td>\n",
       "      <td>10</td>\n",
       "      <td>A</td>\n",
       "      <td>2</td>\n",
       "      <td>0</td>\n",
       "      <td>12</td>\n",
       "      <td>14.0</td>\n",
       "      <td>NaN</td>\n",
       "      <td>1057</td>\n",
       "    </tr>\n",
       "    <tr>\n",
       "      <th>4</th>\n",
       "      <td>1000002</td>\n",
       "      <td>P00285442</td>\n",
       "      <td>M</td>\n",
       "      <td>55+</td>\n",
       "      <td>16</td>\n",
       "      <td>C</td>\n",
       "      <td>4+</td>\n",
       "      <td>0</td>\n",
       "      <td>8</td>\n",
       "      <td>NaN</td>\n",
       "      <td>NaN</td>\n",
       "      <td>7969</td>\n",
       "    </tr>\n",
       "  </tbody>\n",
       "</table>\n",
       "</div>"
      ],
      "text/plain": [
       "   User_ID Product_ID Gender   Age  Occupation City_Category  \\\n",
       "0  1000001  P00069042      F  0-17          10             A   \n",
       "1  1000001  P00248942      F  0-17          10             A   \n",
       "2  1000001  P00087842      F  0-17          10             A   \n",
       "3  1000001  P00085442      F  0-17          10             A   \n",
       "4  1000002  P00285442      M   55+          16             C   \n",
       "\n",
       "  Stay_In_Current_City_Years  Marital_Status  Product_Category_1  \\\n",
       "0                          2               0                   3   \n",
       "1                          2               0                   1   \n",
       "2                          2               0                  12   \n",
       "3                          2               0                  12   \n",
       "4                         4+               0                   8   \n",
       "\n",
       "   Product_Category_2  Product_Category_3  Purchase  \n",
       "0                 NaN                 NaN      8370  \n",
       "1                 6.0                14.0     15200  \n",
       "2                 NaN                 NaN      1422  \n",
       "3                14.0                 NaN      1057  \n",
       "4                 NaN                 NaN      7969  "
      ]
     },
     "execution_count": 3,
     "metadata": {},
     "output_type": "execute_result"
    }
   ],
   "source": [
    "data = pd.read_csv(\"/kaggle/input/purchase-data/train.csv\")\n",
    "data.head()"
   ]
  },
  {
   "cell_type": "code",
   "execution_count": 4,
   "id": "80ccfecf",
   "metadata": {
    "execution": {
     "iopub.execute_input": "2023-02-28T05:15:11.991173Z",
     "iopub.status.busy": "2023-02-28T05:15:11.989912Z",
     "iopub.status.idle": "2023-02-28T05:15:12.135987Z",
     "shell.execute_reply": "2023-02-28T05:15:12.134710Z"
    },
    "papermill": {
     "duration": 0.16676,
     "end_time": "2023-02-28T05:15:12.138909",
     "exception": false,
     "start_time": "2023-02-28T05:15:11.972149",
     "status": "completed"
    },
    "tags": []
   },
   "outputs": [
    {
     "data": {
      "text/plain": [
       "User_ID                            0\n",
       "Product_ID                         0\n",
       "Gender                             0\n",
       "Age                                0\n",
       "Occupation                         0\n",
       "City_Category                      0\n",
       "Stay_In_Current_City_Years         0\n",
       "Marital_Status                     0\n",
       "Product_Category_1                 0\n",
       "Product_Category_2            173638\n",
       "Product_Category_3            383247\n",
       "Purchase                           0\n",
       "dtype: int64"
      ]
     },
     "execution_count": 4,
     "metadata": {},
     "output_type": "execute_result"
    }
   ],
   "source": [
    "data.isnull().sum()"
   ]
  },
  {
   "cell_type": "code",
   "execution_count": 5,
   "id": "7a70d0c9",
   "metadata": {
    "execution": {
     "iopub.execute_input": "2023-02-28T05:15:12.176416Z",
     "iopub.status.busy": "2023-02-28T05:15:12.174245Z",
     "iopub.status.idle": "2023-02-28T05:15:12.182799Z",
     "shell.execute_reply": "2023-02-28T05:15:12.181647Z"
    },
    "papermill": {
     "duration": 0.029188,
     "end_time": "2023-02-28T05:15:12.184937",
     "exception": false,
     "start_time": "2023-02-28T05:15:12.155749",
     "status": "completed"
    },
    "tags": []
   },
   "outputs": [
    {
     "data": {
      "text/plain": [
       "(550068, 12)"
      ]
     },
     "execution_count": 5,
     "metadata": {},
     "output_type": "execute_result"
    }
   ],
   "source": [
    "data.shape"
   ]
  },
  {
   "cell_type": "code",
   "execution_count": 6,
   "id": "16356d2b",
   "metadata": {
    "execution": {
     "iopub.execute_input": "2023-02-28T05:15:12.218922Z",
     "iopub.status.busy": "2023-02-28T05:15:12.218558Z",
     "iopub.status.idle": "2023-02-28T05:15:12.378113Z",
     "shell.execute_reply": "2023-02-28T05:15:12.376261Z"
    },
    "papermill": {
     "duration": 0.179634,
     "end_time": "2023-02-28T05:15:12.380835",
     "exception": false,
     "start_time": "2023-02-28T05:15:12.201201",
     "status": "completed"
    },
    "tags": []
   },
   "outputs": [
    {
     "name": "stdout",
     "output_type": "stream",
     "text": [
      "<class 'pandas.core.frame.DataFrame'>\n",
      "RangeIndex: 550068 entries, 0 to 550067\n",
      "Data columns (total 12 columns):\n",
      " #   Column                      Non-Null Count   Dtype  \n",
      "---  ------                      --------------   -----  \n",
      " 0   User_ID                     550068 non-null  int64  \n",
      " 1   Product_ID                  550068 non-null  object \n",
      " 2   Gender                      550068 non-null  object \n",
      " 3   Age                         550068 non-null  object \n",
      " 4   Occupation                  550068 non-null  int64  \n",
      " 5   City_Category               550068 non-null  object \n",
      " 6   Stay_In_Current_City_Years  550068 non-null  object \n",
      " 7   Marital_Status              550068 non-null  int64  \n",
      " 8   Product_Category_1          550068 non-null  int64  \n",
      " 9   Product_Category_2          376430 non-null  float64\n",
      " 10  Product_Category_3          166821 non-null  float64\n",
      " 11  Purchase                    550068 non-null  int64  \n",
      "dtypes: float64(2), int64(5), object(5)\n",
      "memory usage: 50.4+ MB\n"
     ]
    }
   ],
   "source": [
    "data.info()"
   ]
  },
  {
   "cell_type": "code",
   "execution_count": 7,
   "id": "e280a9f0",
   "metadata": {
    "execution": {
     "iopub.execute_input": "2023-02-28T05:15:12.416030Z",
     "iopub.status.busy": "2023-02-28T05:15:12.415623Z",
     "iopub.status.idle": "2023-02-28T05:15:12.422830Z",
     "shell.execute_reply": "2023-02-28T05:15:12.421733Z"
    },
    "papermill": {
     "duration": 0.027497,
     "end_time": "2023-02-28T05:15:12.425303",
     "exception": false,
     "start_time": "2023-02-28T05:15:12.397806",
     "status": "completed"
    },
    "tags": []
   },
   "outputs": [
    {
     "data": {
      "text/plain": [
       "Index(['User_ID', 'Product_ID', 'Gender', 'Age', 'Occupation', 'City_Category',\n",
       "       'Stay_In_Current_City_Years', 'Marital_Status', 'Product_Category_1',\n",
       "       'Product_Category_2', 'Product_Category_3', 'Purchase'],\n",
       "      dtype='object')"
      ]
     },
     "execution_count": 7,
     "metadata": {},
     "output_type": "execute_result"
    }
   ],
   "source": [
    "data.columns"
   ]
  },
  {
   "cell_type": "code",
   "execution_count": 8,
   "id": "353359c9",
   "metadata": {
    "execution": {
     "iopub.execute_input": "2023-02-28T05:15:12.461043Z",
     "iopub.status.busy": "2023-02-28T05:15:12.460224Z",
     "iopub.status.idle": "2023-02-28T05:15:12.597887Z",
     "shell.execute_reply": "2023-02-28T05:15:12.596831Z"
    },
    "papermill": {
     "duration": 0.158517,
     "end_time": "2023-02-28T05:15:12.600534",
     "exception": false,
     "start_time": "2023-02-28T05:15:12.442017",
     "status": "completed"
    },
    "tags": []
   },
   "outputs": [],
   "source": [
    "from sklearn.preprocessing import LabelEncoder\n",
    "le = LabelEncoder()"
   ]
  },
  {
   "cell_type": "code",
   "execution_count": 9,
   "id": "9c42fcfa",
   "metadata": {
    "execution": {
     "iopub.execute_input": "2023-02-28T05:15:12.635406Z",
     "iopub.status.busy": "2023-02-28T05:15:12.634637Z",
     "iopub.status.idle": "2023-02-28T05:15:12.677427Z",
     "shell.execute_reply": "2023-02-28T05:15:12.676306Z"
    },
    "papermill": {
     "duration": 0.062755,
     "end_time": "2023-02-28T05:15:12.679846",
     "exception": false,
     "start_time": "2023-02-28T05:15:12.617091",
     "status": "completed"
    },
    "tags": []
   },
   "outputs": [
    {
     "data": {
      "text/plain": [
       "array(['2', '4+', '3', '1', '0'], dtype=object)"
      ]
     },
     "execution_count": 9,
     "metadata": {},
     "output_type": "execute_result"
    }
   ],
   "source": [
    "data['Stay_In_Current_City_Years'].unique()"
   ]
  },
  {
   "cell_type": "code",
   "execution_count": 10,
   "id": "8eae8c7c",
   "metadata": {
    "execution": {
     "iopub.execute_input": "2023-02-28T05:15:12.715480Z",
     "iopub.status.busy": "2023-02-28T05:15:12.714609Z",
     "iopub.status.idle": "2023-02-28T05:15:12.743639Z",
     "shell.execute_reply": "2023-02-28T05:15:12.742415Z"
    },
    "papermill": {
     "duration": 0.050026,
     "end_time": "2023-02-28T05:15:12.746328",
     "exception": false,
     "start_time": "2023-02-28T05:15:12.696302",
     "status": "completed"
    },
    "tags": []
   },
   "outputs": [],
   "source": [
    "data['Stay_In_Current_City_Years'] = data['Stay_In_Current_City_Years'].replace('4+','4')"
   ]
  },
  {
   "cell_type": "code",
   "execution_count": 11,
   "id": "694f2467",
   "metadata": {
    "execution": {
     "iopub.execute_input": "2023-02-28T05:15:12.784577Z",
     "iopub.status.busy": "2023-02-28T05:15:12.784182Z",
     "iopub.status.idle": "2023-02-28T05:15:12.860869Z",
     "shell.execute_reply": "2023-02-28T05:15:12.859783Z"
    },
    "papermill": {
     "duration": 0.099438,
     "end_time": "2023-02-28T05:15:12.863668",
     "exception": false,
     "start_time": "2023-02-28T05:15:12.764230",
     "status": "completed"
    },
    "tags": []
   },
   "outputs": [],
   "source": [
    "data['Stay_In_Current_City_Years'] = data['Stay_In_Current_City_Years'].astype(int)"
   ]
  },
  {
   "cell_type": "code",
   "execution_count": 12,
   "id": "30cb702f",
   "metadata": {
    "execution": {
     "iopub.execute_input": "2023-02-28T05:15:12.900140Z",
     "iopub.status.busy": "2023-02-28T05:15:12.899323Z",
     "iopub.status.idle": "2023-02-28T05:15:13.019095Z",
     "shell.execute_reply": "2023-02-28T05:15:13.017841Z"
    },
    "papermill": {
     "duration": 0.140912,
     "end_time": "2023-02-28T05:15:13.021741",
     "exception": false,
     "start_time": "2023-02-28T05:15:12.880829",
     "status": "completed"
    },
    "tags": []
   },
   "outputs": [
    {
     "data": {
      "text/plain": [
       "User_ID                            0\n",
       "Product_ID                         0\n",
       "Gender                             0\n",
       "Age                                0\n",
       "Occupation                         0\n",
       "City_Category                      0\n",
       "Stay_In_Current_City_Years         0\n",
       "Marital_Status                     0\n",
       "Product_Category_1                 0\n",
       "Product_Category_2            173638\n",
       "Product_Category_3            383247\n",
       "Purchase                           0\n",
       "dtype: int64"
      ]
     },
     "execution_count": 12,
     "metadata": {},
     "output_type": "execute_result"
    }
   ],
   "source": [
    "data.isnull().sum()"
   ]
  },
  {
   "cell_type": "code",
   "execution_count": 13,
   "id": "7d74eaed",
   "metadata": {
    "execution": {
     "iopub.execute_input": "2023-02-28T05:15:13.059690Z",
     "iopub.status.busy": "2023-02-28T05:15:13.059240Z",
     "iopub.status.idle": "2023-02-28T05:15:13.185397Z",
     "shell.execute_reply": "2023-02-28T05:15:13.183876Z"
    },
    "papermill": {
     "duration": 0.149354,
     "end_time": "2023-02-28T05:15:13.189204",
     "exception": false,
     "start_time": "2023-02-28T05:15:13.039850",
     "status": "completed"
    },
    "tags": []
   },
   "outputs": [
    {
     "name": "stdout",
     "output_type": "stream",
     "text": [
      "<class 'pandas.core.frame.DataFrame'>\n",
      "RangeIndex: 550068 entries, 0 to 550067\n",
      "Data columns (total 12 columns):\n",
      " #   Column                      Non-Null Count   Dtype  \n",
      "---  ------                      --------------   -----  \n",
      " 0   User_ID                     550068 non-null  int64  \n",
      " 1   Product_ID                  550068 non-null  object \n",
      " 2   Gender                      550068 non-null  object \n",
      " 3   Age                         550068 non-null  object \n",
      " 4   Occupation                  550068 non-null  int64  \n",
      " 5   City_Category               550068 non-null  object \n",
      " 6   Stay_In_Current_City_Years  550068 non-null  int64  \n",
      " 7   Marital_Status              550068 non-null  int64  \n",
      " 8   Product_Category_1          550068 non-null  int64  \n",
      " 9   Product_Category_2          376430 non-null  float64\n",
      " 10  Product_Category_3          166821 non-null  float64\n",
      " 11  Purchase                    550068 non-null  int64  \n",
      "dtypes: float64(2), int64(6), object(4)\n",
      "memory usage: 50.4+ MB\n"
     ]
    }
   ],
   "source": [
    "data.info()"
   ]
  },
  {
   "cell_type": "code",
   "execution_count": 14,
   "id": "732da6a6",
   "metadata": {
    "execution": {
     "iopub.execute_input": "2023-02-28T05:15:13.225802Z",
     "iopub.status.busy": "2023-02-28T05:15:13.225364Z",
     "iopub.status.idle": "2023-02-28T05:15:13.232531Z",
     "shell.execute_reply": "2023-02-28T05:15:13.231387Z"
    },
    "papermill": {
     "duration": 0.027862,
     "end_time": "2023-02-28T05:15:13.234734",
     "exception": false,
     "start_time": "2023-02-28T05:15:13.206872",
     "status": "completed"
    },
    "tags": []
   },
   "outputs": [
    {
     "data": {
      "text/plain": [
       "(550068, 12)"
      ]
     },
     "execution_count": 14,
     "metadata": {},
     "output_type": "execute_result"
    }
   ],
   "source": [
    "data.shape"
   ]
  },
  {
   "cell_type": "code",
   "execution_count": 15,
   "id": "9809fe51",
   "metadata": {
    "execution": {
     "iopub.execute_input": "2023-02-28T05:15:13.271566Z",
     "iopub.status.busy": "2023-02-28T05:15:13.270349Z",
     "iopub.status.idle": "2023-02-28T05:15:13.891577Z",
     "shell.execute_reply": "2023-02-28T05:15:13.889977Z"
    },
    "papermill": {
     "duration": 0.642928,
     "end_time": "2023-02-28T05:15:13.894847",
     "exception": false,
     "start_time": "2023-02-28T05:15:13.251919",
     "status": "completed"
    },
    "tags": []
   },
   "outputs": [
    {
     "name": "stdout",
     "output_type": "stream",
     "text": [
      "Product_ID ['P00000142' 'P00000242' 'P00000342' ... 'P0099742' 'P0099842' 'P0099942']\n",
      "Gender ['F' 'M']\n",
      "Age ['0-17' '18-25' '26-35' '36-45' '46-50' '51-55' '55+']\n",
      "City_Category ['A' 'B' 'C']\n"
     ]
    }
   ],
   "source": [
    "for col in data.columns:\n",
    "    if data[col].dtypes == object:\n",
    "        data[col] = le.fit_transform(data[col])\n",
    "        print(col,le.classes_)"
   ]
  },
  {
   "cell_type": "code",
   "execution_count": 16,
   "id": "d3fa7d9b",
   "metadata": {
    "execution": {
     "iopub.execute_input": "2023-02-28T05:15:13.932991Z",
     "iopub.status.busy": "2023-02-28T05:15:13.932518Z",
     "iopub.status.idle": "2023-02-28T05:15:14.004733Z",
     "shell.execute_reply": "2023-02-28T05:15:14.003539Z"
    },
    "papermill": {
     "duration": 0.094651,
     "end_time": "2023-02-28T05:15:14.007546",
     "exception": false,
     "start_time": "2023-02-28T05:15:13.912895",
     "status": "completed"
    },
    "tags": []
   },
   "outputs": [],
   "source": [
    "data.dropna(inplace = True)"
   ]
  },
  {
   "cell_type": "code",
   "execution_count": 17,
   "id": "1efbdeff",
   "metadata": {
    "execution": {
     "iopub.execute_input": "2023-02-28T05:15:14.044497Z",
     "iopub.status.busy": "2023-02-28T05:15:14.044085Z",
     "iopub.status.idle": "2023-02-28T05:15:14.060397Z",
     "shell.execute_reply": "2023-02-28T05:15:14.059065Z"
    },
    "papermill": {
     "duration": 0.037897,
     "end_time": "2023-02-28T05:15:14.062864",
     "exception": false,
     "start_time": "2023-02-28T05:15:14.024967",
     "status": "completed"
    },
    "tags": []
   },
   "outputs": [
    {
     "data": {
      "text/html": [
       "<div>\n",
       "<style scoped>\n",
       "    .dataframe tbody tr th:only-of-type {\n",
       "        vertical-align: middle;\n",
       "    }\n",
       "\n",
       "    .dataframe tbody tr th {\n",
       "        vertical-align: top;\n",
       "    }\n",
       "\n",
       "    .dataframe thead th {\n",
       "        text-align: right;\n",
       "    }\n",
       "</style>\n",
       "<table border=\"1\" class=\"dataframe\">\n",
       "  <thead>\n",
       "    <tr style=\"text-align: right;\">\n",
       "      <th></th>\n",
       "      <th>User_ID</th>\n",
       "      <th>Product_ID</th>\n",
       "      <th>Gender</th>\n",
       "      <th>Age</th>\n",
       "      <th>Occupation</th>\n",
       "      <th>City_Category</th>\n",
       "      <th>Stay_In_Current_City_Years</th>\n",
       "      <th>Marital_Status</th>\n",
       "      <th>Product_Category_1</th>\n",
       "      <th>Product_Category_2</th>\n",
       "      <th>Product_Category_3</th>\n",
       "      <th>Purchase</th>\n",
       "    </tr>\n",
       "  </thead>\n",
       "  <tbody>\n",
       "    <tr>\n",
       "      <th>1</th>\n",
       "      <td>1000001</td>\n",
       "      <td>2376</td>\n",
       "      <td>0</td>\n",
       "      <td>0</td>\n",
       "      <td>10</td>\n",
       "      <td>0</td>\n",
       "      <td>2</td>\n",
       "      <td>0</td>\n",
       "      <td>1</td>\n",
       "      <td>6.0</td>\n",
       "      <td>14.0</td>\n",
       "      <td>15200</td>\n",
       "    </tr>\n",
       "    <tr>\n",
       "      <th>6</th>\n",
       "      <td>1000004</td>\n",
       "      <td>1745</td>\n",
       "      <td>1</td>\n",
       "      <td>4</td>\n",
       "      <td>7</td>\n",
       "      <td>1</td>\n",
       "      <td>2</td>\n",
       "      <td>1</td>\n",
       "      <td>1</td>\n",
       "      <td>8.0</td>\n",
       "      <td>17.0</td>\n",
       "      <td>19215</td>\n",
       "    </tr>\n",
       "    <tr>\n",
       "      <th>13</th>\n",
       "      <td>1000005</td>\n",
       "      <td>1355</td>\n",
       "      <td>1</td>\n",
       "      <td>2</td>\n",
       "      <td>20</td>\n",
       "      <td>0</td>\n",
       "      <td>1</td>\n",
       "      <td>1</td>\n",
       "      <td>1</td>\n",
       "      <td>2.0</td>\n",
       "      <td>5.0</td>\n",
       "      <td>15665</td>\n",
       "    </tr>\n",
       "    <tr>\n",
       "      <th>14</th>\n",
       "      <td>1000006</td>\n",
       "      <td>2203</td>\n",
       "      <td>0</td>\n",
       "      <td>5</td>\n",
       "      <td>9</td>\n",
       "      <td>0</td>\n",
       "      <td>1</td>\n",
       "      <td>0</td>\n",
       "      <td>5</td>\n",
       "      <td>8.0</td>\n",
       "      <td>14.0</td>\n",
       "      <td>5378</td>\n",
       "    </tr>\n",
       "    <tr>\n",
       "      <th>16</th>\n",
       "      <td>1000006</td>\n",
       "      <td>3598</td>\n",
       "      <td>0</td>\n",
       "      <td>5</td>\n",
       "      <td>9</td>\n",
       "      <td>0</td>\n",
       "      <td>1</td>\n",
       "      <td>0</td>\n",
       "      <td>2</td>\n",
       "      <td>3.0</td>\n",
       "      <td>4.0</td>\n",
       "      <td>13055</td>\n",
       "    </tr>\n",
       "  </tbody>\n",
       "</table>\n",
       "</div>"
      ],
      "text/plain": [
       "    User_ID  Product_ID  Gender  Age  Occupation  City_Category  \\\n",
       "1   1000001        2376       0    0          10              0   \n",
       "6   1000004        1745       1    4           7              1   \n",
       "13  1000005        1355       1    2          20              0   \n",
       "14  1000006        2203       0    5           9              0   \n",
       "16  1000006        3598       0    5           9              0   \n",
       "\n",
       "    Stay_In_Current_City_Years  Marital_Status  Product_Category_1  \\\n",
       "1                            2               0                   1   \n",
       "6                            2               1                   1   \n",
       "13                           1               1                   1   \n",
       "14                           1               0                   5   \n",
       "16                           1               0                   2   \n",
       "\n",
       "    Product_Category_2  Product_Category_3  Purchase  \n",
       "1                  6.0                14.0     15200  \n",
       "6                  8.0                17.0     19215  \n",
       "13                 2.0                 5.0     15665  \n",
       "14                 8.0                14.0      5378  \n",
       "16                 3.0                 4.0     13055  "
      ]
     },
     "execution_count": 17,
     "metadata": {},
     "output_type": "execute_result"
    }
   ],
   "source": [
    "data.head()"
   ]
  },
  {
   "cell_type": "code",
   "execution_count": 18,
   "id": "baa6cae6",
   "metadata": {
    "execution": {
     "iopub.execute_input": "2023-02-28T05:15:14.099911Z",
     "iopub.status.busy": "2023-02-28T05:15:14.099514Z",
     "iopub.status.idle": "2023-02-28T05:15:16.329211Z",
     "shell.execute_reply": "2023-02-28T05:15:16.328044Z"
    },
    "papermill": {
     "duration": 2.251053,
     "end_time": "2023-02-28T05:15:16.331613",
     "exception": false,
     "start_time": "2023-02-28T05:15:14.080560",
     "status": "completed"
    },
    "tags": []
   },
   "outputs": [
    {
     "data": {
      "text/plain": [
       "<seaborn.axisgrid.FacetGrid at 0x7f3fe34f7a10>"
      ]
     },
     "execution_count": 18,
     "metadata": {},
     "output_type": "execute_result"
    },
    {
     "data": {
      "image/png": "[encoded data removed]",
      "text/plain": [
       "<Figure size 500x500 with 1 Axes>"
      ]
     },
     "metadata": {},
     "output_type": "display_data"
    }
   ],
   "source": [
    "sns.catplot(data = data, x = \"Gender\",y=\"User_ID\",kind=\"bar\")"
   ]
  },
  {
   "cell_type": "code",
   "execution_count": 19,
   "id": "094acf27",
   "metadata": {
    "execution": {
     "iopub.execute_input": "2023-02-28T05:15:16.368776Z",
     "iopub.status.busy": "2023-02-28T05:15:16.367986Z",
     "iopub.status.idle": "2023-02-28T05:15:18.578040Z",
     "shell.execute_reply": "2023-02-28T05:15:18.576271Z"
    },
    "papermill": {
     "duration": 2.231321,
     "end_time": "2023-02-28T05:15:18.580404",
     "exception": false,
     "start_time": "2023-02-28T05:15:16.349083",
     "status": "completed"
    },
    "tags": []
   },
   "outputs": [
    {
     "data": {
      "text/plain": [
       "<seaborn.axisgrid.FacetGrid at 0x7f3fe1560650>"
      ]
     },
     "execution_count": 19,
     "metadata": {},
     "output_type": "execute_result"
    },
    {
     "data": {
      "image/png": "[encoded data removed]",
      "text/plain": [
       "<Figure size 500x500 with 1 Axes>"
      ]
     },
     "metadata": {},
     "output_type": "display_data"
    }
   ],
   "source": [
    "sns.catplot(data = data, x = \"Age\",y=\"User_ID\",kind=\"bar\")"
   ]
  },
  {
   "cell_type": "code",
   "execution_count": 20,
   "id": "3643e2c9",
   "metadata": {
    "execution": {
     "iopub.execute_input": "2023-02-28T05:15:18.619824Z",
     "iopub.status.busy": "2023-02-28T05:15:18.618497Z",
     "iopub.status.idle": "2023-02-28T05:15:21.371578Z",
     "shell.execute_reply": "2023-02-28T05:15:21.370381Z"
    },
    "papermill": {
     "duration": 2.774925,
     "end_time": "2023-02-28T05:15:21.374013",
     "exception": false,
     "start_time": "2023-02-28T05:15:18.599088",
     "status": "completed"
    },
    "tags": []
   },
   "outputs": [
    {
     "data": {
      "text/plain": [
       "<seaborn.axisgrid.FacetGrid at 0x7f3fe1472cd0>"
      ]
     },
     "execution_count": 20,
     "metadata": {},
     "output_type": "execute_result"
    },
    {
     "data": {
      "image/png": "[encoded data removed]",
      "text/plain": [
       "<Figure size 562.236x500 with 1 Axes>"
      ]
     },
     "metadata": {},
     "output_type": "display_data"
    }
   ],
   "source": [
    "sns.catplot(data = data, x = \"Age\",y=\"User_ID\",hue = \"Gender\",kind=\"bar\")"
   ]
  },
  {
   "cell_type": "code",
   "execution_count": 21,
   "id": "29892026",
   "metadata": {
    "execution": {
     "iopub.execute_input": "2023-02-28T05:15:21.413523Z",
     "iopub.status.busy": "2023-02-28T05:15:21.412746Z",
     "iopub.status.idle": "2023-02-28T05:15:23.657211Z",
     "shell.execute_reply": "2023-02-28T05:15:23.655907Z"
    },
    "papermill": {
     "duration": 2.267546,
     "end_time": "2023-02-28T05:15:23.660201",
     "exception": false,
     "start_time": "2023-02-28T05:15:21.392655",
     "status": "completed"
    },
    "tags": []
   },
   "outputs": [
    {
     "data": {
      "text/plain": [
       "<seaborn.axisgrid.FacetGrid at 0x7f3fe3561ad0>"
      ]
     },
     "execution_count": 21,
     "metadata": {},
     "output_type": "execute_result"
    },
    {
     "data": {
      "image/png": "[encoded data removed]",
      "text/plain": [
       "<Figure size 562.236x500 with 1 Axes>"
      ]
     },
     "metadata": {},
     "output_type": "display_data"
    }
   ],
   "source": [
    "sns.catplot(data = data, x = \"Marital_Status\",y=\"User_ID\",hue = \"Gender\",kind=\"bar\")"
   ]
  },
  {
   "cell_type": "code",
   "execution_count": 22,
   "id": "5805d661",
   "metadata": {
    "execution": {
     "iopub.execute_input": "2023-02-28T05:15:23.701137Z",
     "iopub.status.busy": "2023-02-28T05:15:23.700338Z",
     "iopub.status.idle": "2023-02-28T05:15:23.990994Z",
     "shell.execute_reply": "2023-02-28T05:15:23.989663Z"
    },
    "papermill": {
     "duration": 0.313992,
     "end_time": "2023-02-28T05:15:23.993663",
     "exception": false,
     "start_time": "2023-02-28T05:15:23.679671",
     "status": "completed"
    },
    "tags": []
   },
   "outputs": [
    {
     "data": {
      "text/plain": [
       "<AxesSubplot:xlabel='Product_Category_1', ylabel='count'>"
      ]
     },
     "execution_count": 22,
     "metadata": {},
     "output_type": "execute_result"
    },
    {
     "data": {
      "image/png": "[encoded data removed]",
      "text/plain": [
       "<Figure size 1000x500 with 1 Axes>"
      ]
     },
     "metadata": {},
     "output_type": "display_data"
    }
   ],
   "source": [
    "plt.figure(figsize = (10,5))\n",
    "sns.countplot(data = data, x = \"Product_Category_1\")"
   ]
  },
  {
   "cell_type": "code",
   "execution_count": 23,
   "id": "b4ff8be8",
   "metadata": {
    "execution": {
     "iopub.execute_input": "2023-02-28T05:15:24.034796Z",
     "iopub.status.busy": "2023-02-28T05:15:24.034401Z",
     "iopub.status.idle": "2023-02-28T05:15:24.349808Z",
     "shell.execute_reply": "2023-02-28T05:15:24.348609Z"
    },
    "papermill": {
     "duration": 0.339065,
     "end_time": "2023-02-28T05:15:24.352300",
     "exception": false,
     "start_time": "2023-02-28T05:15:24.013235",
     "status": "completed"
    },
    "tags": []
   },
   "outputs": [
    {
     "data": {
      "text/plain": [
       "<AxesSubplot:xlabel='Product_Category_2', ylabel='count'>"
      ]
     },
     "execution_count": 23,
     "metadata": {},
     "output_type": "execute_result"
    },
    {
     "data": {
      "image/png": "[encoded data removed]",
      "text/plain": [
       "<Figure size 1000x500 with 1 Axes>"
      ]
     },
     "metadata": {},
     "output_type": "display_data"
    }
   ],
   "source": [
    "plt.figure(figsize = (10,5))\n",
    "sns.countplot(data = data, x = \"Product_Category_2\")"
   ]
  },
  {
   "cell_type": "code",
   "execution_count": 24,
   "id": "56273980",
   "metadata": {
    "execution": {
     "iopub.execute_input": "2023-02-28T05:15:24.394088Z",
     "iopub.status.busy": "2023-02-28T05:15:24.393588Z",
     "iopub.status.idle": "2023-02-28T05:15:24.729366Z",
     "shell.execute_reply": "2023-02-28T05:15:24.728155Z"
    },
    "papermill": {
     "duration": 0.360025,
     "end_time": "2023-02-28T05:15:24.732269",
     "exception": false,
     "start_time": "2023-02-28T05:15:24.372244",
     "status": "completed"
    },
    "tags": []
   },
   "outputs": [
    {
     "data": {
      "text/plain": [
       "<AxesSubplot:xlabel='Product_Category_3', ylabel='count'>"
      ]
     },
     "execution_count": 24,
     "metadata": {},
     "output_type": "execute_result"
    },
    {
     "data": {
      "image/png": "[encoded data removed]",
      "text/plain": [
       "<Figure size 1000x500 with 1 Axes>"
      ]
     },
     "metadata": {},
     "output_type": "display_data"
    }
   ],
   "source": [
    "plt.figure(figsize = (10,5))\n",
    "sns.countplot(data = data, x = \"Product_Category_3\")"
   ]
  },
  {
   "cell_type": "code",
   "execution_count": 25,
   "id": "50d63bfb",
   "metadata": {
    "execution": {
     "iopub.execute_input": "2023-02-28T05:15:24.776841Z",
     "iopub.status.busy": "2023-02-28T05:15:24.776412Z",
     "iopub.status.idle": "2023-02-28T05:15:25.125320Z",
     "shell.execute_reply": "2023-02-28T05:15:25.124104Z"
    },
    "papermill": {
     "duration": 0.37398,
     "end_time": "2023-02-28T05:15:25.127756",
     "exception": false,
     "start_time": "2023-02-28T05:15:24.753776",
     "status": "completed"
    },
    "tags": []
   },
   "outputs": [
    {
     "data": {
      "text/plain": [
       "<AxesSubplot:xlabel='Occupation', ylabel='count'>"
      ]
     },
     "execution_count": 25,
     "metadata": {},
     "output_type": "execute_result"
    },
    {
     "data": {
      "image/png": "[encoded data removed]",
      "text/plain": [
       "<Figure size 1000x500 with 1 Axes>"
      ]
     },
     "metadata": {},
     "output_type": "display_data"
    }
   ],
   "source": [
    "plt.figure(figsize = (10,5))\n",
    "sns.countplot(data = data, x = \"Occupation\")"
   ]
  },
  {
   "cell_type": "code",
   "execution_count": 26,
   "id": "76ee12e6",
   "metadata": {
    "execution": {
     "iopub.execute_input": "2023-02-28T05:15:25.172401Z",
     "iopub.status.busy": "2023-02-28T05:15:25.171948Z",
     "iopub.status.idle": "2023-02-28T05:15:25.411520Z",
     "shell.execute_reply": "2023-02-28T05:15:25.410266Z"
    },
    "papermill": {
     "duration": 0.265431,
     "end_time": "2023-02-28T05:15:25.414422",
     "exception": false,
     "start_time": "2023-02-28T05:15:25.148991",
     "status": "completed"
    },
    "tags": []
   },
   "outputs": [
    {
     "data": {
      "text/plain": [
       "<AxesSubplot:xlabel='Stay_In_Current_City_Years', ylabel='count'>"
      ]
     },
     "execution_count": 26,
     "metadata": {},
     "output_type": "execute_result"
    },
    {
     "data": {
      "image/png": "[encoded data removed]",
      "text/plain": [
       "<Figure size 1000x500 with 1 Axes>"
      ]
     },
     "metadata": {},
     "output_type": "display_data"
    }
   ],
   "source": [
    "plt.figure(figsize = (10,5))\n",
    "sns.countplot(data = data, x = \"Stay_In_Current_City_Years\")"
   ]
  },
  {
   "cell_type": "code",
   "execution_count": 27,
   "id": "610fc9d0",
   "metadata": {
    "execution": {
     "iopub.execute_input": "2023-02-28T05:15:25.459743Z",
     "iopub.status.busy": "2023-02-28T05:15:25.459284Z",
     "iopub.status.idle": "2023-02-28T05:15:26.578778Z",
     "shell.execute_reply": "2023-02-28T05:15:26.577573Z"
    },
    "papermill": {
     "duration": 1.146124,
     "end_time": "2023-02-28T05:15:26.582038",
     "exception": false,
     "start_time": "2023-02-28T05:15:25.435914",
     "status": "completed"
    },
    "tags": []
   },
   "outputs": [
    {
     "name": "stderr",
     "output_type": "stream",
     "text": [
      "/opt/conda/lib/python3.7/site-packages/ipykernel_launcher.py:1: UserWarning: \n",
      "\n",
      "`distplot` is a deprecated function and will be removed in seaborn v0.14.0.\n",
      "\n",
      "Please adapt your code to use either `displot` (a figure-level function with\n",
      "similar flexibility) or `histplot` (an axes-level function for histograms).\n",
      "\n",
      "For a guide to updating your code to use the new functions, please see\n",
      "https://gist.github.com/mwaskom/de44147ed2974457ad6372750bbe5751\n",
      "\n",
      "  \"\"\"Entry point for launching an IPython kernel.\n"
     ]
    },
    {
     "data": {
      "text/plain": [
       "<AxesSubplot:xlabel='Purchase', ylabel='Density'>"
      ]
     },
     "execution_count": 27,
     "metadata": {},
     "output_type": "execute_result"
    },
    {
     "data": {
      "image/png": "[encoded data removed]",
      "text/plain": [
       "<Figure size 640x480 with 1 Axes>"
      ]
     },
     "metadata": {},
     "output_type": "display_data"
    }
   ],
   "source": [
    "sns.distplot(data['Purchase'])"
   ]
  },
  {
   "cell_type": "code",
   "execution_count": 28,
   "id": "337566cd",
   "metadata": {
    "execution": {
     "iopub.execute_input": "2023-02-28T05:15:26.636410Z",
     "iopub.status.busy": "2023-02-28T05:15:26.635635Z",
     "iopub.status.idle": "2023-02-28T05:15:26.651932Z",
     "shell.execute_reply": "2023-02-28T05:15:26.650742Z"
    },
    "papermill": {
     "duration": 0.045607,
     "end_time": "2023-02-28T05:15:26.654823",
     "exception": false,
     "start_time": "2023-02-28T05:15:26.609216",
     "status": "completed"
    },
    "tags": []
   },
   "outputs": [
    {
     "name": "stdout",
     "output_type": "stream",
     "text": [
      "<class 'pandas.core.frame.DataFrame'>\n",
      "Int64Index: 166821 entries, 1 to 545914\n",
      "Data columns (total 12 columns):\n",
      " #   Column                      Non-Null Count   Dtype  \n",
      "---  ------                      --------------   -----  \n",
      " 0   User_ID                     166821 non-null  int64  \n",
      " 1   Product_ID                  166821 non-null  int64  \n",
      " 2   Gender                      166821 non-null  int64  \n",
      " 3   Age                         166821 non-null  int64  \n",
      " 4   Occupation                  166821 non-null  int64  \n",
      " 5   City_Category               166821 non-null  int64  \n",
      " 6   Stay_In_Current_City_Years  166821 non-null  int64  \n",
      " 7   Marital_Status              166821 non-null  int64  \n",
      " 8   Product_Category_1          166821 non-null  int64  \n",
      " 9   Product_Category_2          166821 non-null  float64\n",
      " 10  Product_Category_3          166821 non-null  float64\n",
      " 11  Purchase                    166821 non-null  int64  \n",
      "dtypes: float64(2), int64(10)\n",
      "memory usage: 20.6 MB\n"
     ]
    }
   ],
   "source": [
    "data.info()"
   ]
  },
  {
   "cell_type": "code",
   "execution_count": 29,
   "id": "e93f904b",
   "metadata": {
    "execution": {
     "iopub.execute_input": "2023-02-28T05:15:26.701536Z",
     "iopub.status.busy": "2023-02-28T05:15:26.700533Z",
     "iopub.status.idle": "2023-02-28T05:15:26.715935Z",
     "shell.execute_reply": "2023-02-28T05:15:26.714827Z"
    },
    "papermill": {
     "duration": 0.041325,
     "end_time": "2023-02-28T05:15:26.718505",
     "exception": false,
     "start_time": "2023-02-28T05:15:26.677180",
     "status": "completed"
    },
    "tags": []
   },
   "outputs": [
    {
     "data": {
      "text/html": [
       "<div>\n",
       "<style scoped>\n",
       "    .dataframe tbody tr th:only-of-type {\n",
       "        vertical-align: middle;\n",
       "    }\n",
       "\n",
       "    .dataframe tbody tr th {\n",
       "        vertical-align: top;\n",
       "    }\n",
       "\n",
       "    .dataframe thead th {\n",
       "        text-align: right;\n",
       "    }\n",
       "</style>\n",
       "<table border=\"1\" class=\"dataframe\">\n",
       "  <thead>\n",
       "    <tr style=\"text-align: right;\">\n",
       "      <th></th>\n",
       "      <th>User_ID</th>\n",
       "      <th>Product_ID</th>\n",
       "      <th>Gender</th>\n",
       "      <th>Age</th>\n",
       "      <th>Occupation</th>\n",
       "      <th>City_Category</th>\n",
       "      <th>Stay_In_Current_City_Years</th>\n",
       "      <th>Marital_Status</th>\n",
       "      <th>Product_Category_1</th>\n",
       "      <th>Product_Category_2</th>\n",
       "      <th>Product_Category_3</th>\n",
       "      <th>Purchase</th>\n",
       "    </tr>\n",
       "  </thead>\n",
       "  <tbody>\n",
       "    <tr>\n",
       "      <th>1</th>\n",
       "      <td>1000001</td>\n",
       "      <td>2376</td>\n",
       "      <td>0</td>\n",
       "      <td>0</td>\n",
       "      <td>10</td>\n",
       "      <td>0</td>\n",
       "      <td>2</td>\n",
       "      <td>0</td>\n",
       "      <td>1</td>\n",
       "      <td>6.0</td>\n",
       "      <td>14.0</td>\n",
       "      <td>15200</td>\n",
       "    </tr>\n",
       "    <tr>\n",
       "      <th>6</th>\n",
       "      <td>1000004</td>\n",
       "      <td>1745</td>\n",
       "      <td>1</td>\n",
       "      <td>4</td>\n",
       "      <td>7</td>\n",
       "      <td>1</td>\n",
       "      <td>2</td>\n",
       "      <td>1</td>\n",
       "      <td>1</td>\n",
       "      <td>8.0</td>\n",
       "      <td>17.0</td>\n",
       "      <td>19215</td>\n",
       "    </tr>\n",
       "    <tr>\n",
       "      <th>13</th>\n",
       "      <td>1000005</td>\n",
       "      <td>1355</td>\n",
       "      <td>1</td>\n",
       "      <td>2</td>\n",
       "      <td>20</td>\n",
       "      <td>0</td>\n",
       "      <td>1</td>\n",
       "      <td>1</td>\n",
       "      <td>1</td>\n",
       "      <td>2.0</td>\n",
       "      <td>5.0</td>\n",
       "      <td>15665</td>\n",
       "    </tr>\n",
       "    <tr>\n",
       "      <th>14</th>\n",
       "      <td>1000006</td>\n",
       "      <td>2203</td>\n",
       "      <td>0</td>\n",
       "      <td>5</td>\n",
       "      <td>9</td>\n",
       "      <td>0</td>\n",
       "      <td>1</td>\n",
       "      <td>0</td>\n",
       "      <td>5</td>\n",
       "      <td>8.0</td>\n",
       "      <td>14.0</td>\n",
       "      <td>5378</td>\n",
       "    </tr>\n",
       "    <tr>\n",
       "      <th>16</th>\n",
       "      <td>1000006</td>\n",
       "      <td>3598</td>\n",
       "      <td>0</td>\n",
       "      <td>5</td>\n",
       "      <td>9</td>\n",
       "      <td>0</td>\n",
       "      <td>1</td>\n",
       "      <td>0</td>\n",
       "      <td>2</td>\n",
       "      <td>3.0</td>\n",
       "      <td>4.0</td>\n",
       "      <td>13055</td>\n",
       "    </tr>\n",
       "  </tbody>\n",
       "</table>\n",
       "</div>"
      ],
      "text/plain": [
       "    User_ID  Product_ID  Gender  Age  Occupation  City_Category  \\\n",
       "1   1000001        2376       0    0          10              0   \n",
       "6   1000004        1745       1    4           7              1   \n",
       "13  1000005        1355       1    2          20              0   \n",
       "14  1000006        2203       0    5           9              0   \n",
       "16  1000006        3598       0    5           9              0   \n",
       "\n",
       "    Stay_In_Current_City_Years  Marital_Status  Product_Category_1  \\\n",
       "1                            2               0                   1   \n",
       "6                            2               1                   1   \n",
       "13                           1               1                   1   \n",
       "14                           1               0                   5   \n",
       "16                           1               0                   2   \n",
       "\n",
       "    Product_Category_2  Product_Category_3  Purchase  \n",
       "1                  6.0                14.0     15200  \n",
       "6                  8.0                17.0     19215  \n",
       "13                 2.0                 5.0     15665  \n",
       "14                 8.0                14.0      5378  \n",
       "16                 3.0                 4.0     13055  "
      ]
     },
     "execution_count": 29,
     "metadata": {},
     "output_type": "execute_result"
    }
   ],
   "source": [
    "data.head()"
   ]
  },
  {
   "cell_type": "code",
   "execution_count": 30,
   "id": "4138749a",
   "metadata": {
    "execution": {
     "iopub.execute_input": "2023-02-28T05:15:26.765321Z",
     "iopub.status.busy": "2023-02-28T05:15:26.764897Z",
     "iopub.status.idle": "2023-02-28T05:15:28.137048Z",
     "shell.execute_reply": "2023-02-28T05:15:28.136128Z"
    },
    "papermill": {
     "duration": 1.399161,
     "end_time": "2023-02-28T05:15:28.140663",
     "exception": false,
     "start_time": "2023-02-28T05:15:26.741502",
     "status": "completed"
    },
    "tags": []
   },
   "outputs": [
    {
     "data": {
      "text/plain": [
       "<AxesSubplot:>"
      ]
     },
     "execution_count": 30,
     "metadata": {},
     "output_type": "execute_result"
    },
    {
     "data": {
      "image/png": "[encoded data removed]",
      "text/plain": [
       "<Figure size 1500x500 with 2 Axes>"
      ]
     },
     "metadata": {},
     "output_type": "display_data"
    }
   ],
   "source": [
    "corr = data.corr()\n",
    "plt.figure(figsize = (15,5))\n",
    "sns.heatmap(corr,annot = True)"
   ]
  },
  {
   "cell_type": "code",
   "execution_count": 31,
   "id": "5d631b30",
   "metadata": {
    "execution": {
     "iopub.execute_input": "2023-02-28T05:15:28.192630Z",
     "iopub.status.busy": "2023-02-28T05:15:28.191891Z",
     "iopub.status.idle": "2023-02-28T05:15:28.200213Z",
     "shell.execute_reply": "2023-02-28T05:15:28.199350Z"
    },
    "papermill": {
     "duration": 0.036786,
     "end_time": "2023-02-28T05:15:28.202687",
     "exception": false,
     "start_time": "2023-02-28T05:15:28.165901",
     "status": "completed"
    },
    "tags": []
   },
   "outputs": [
    {
     "data": {
      "text/plain": [
       "Purchase                      1.000000\n",
       "City_Category                 0.077344\n",
       "Gender                        0.060852\n",
       "Occupation                    0.025048\n",
       "Age                           0.023937\n",
       "Stay_In_Current_City_Years    0.007598\n",
       "Marital_Status                0.004603\n",
       "User_ID                      -0.000590\n",
       "Product_Category_3           -0.022006\n",
       "Product_ID                   -0.106410\n",
       "Product_Category_2           -0.153711\n",
       "Product_Category_1           -0.396558\n",
       "Name: Purchase, dtype: float64"
      ]
     },
     "execution_count": 31,
     "metadata": {},
     "output_type": "execute_result"
    }
   ],
   "source": [
    "corr['Purchase'].sort_values(ascending = False)"
   ]
  },
  {
   "cell_type": "code",
   "execution_count": 32,
   "id": "28e25b8e",
   "metadata": {
    "execution": {
     "iopub.execute_input": "2023-02-28T05:15:28.255544Z",
     "iopub.status.busy": "2023-02-28T05:15:28.254286Z",
     "iopub.status.idle": "2023-02-28T05:15:28.354487Z",
     "shell.execute_reply": "2023-02-28T05:15:28.353147Z"
    },
    "papermill": {
     "duration": 0.128971,
     "end_time": "2023-02-28T05:15:28.356988",
     "exception": false,
     "start_time": "2023-02-28T05:15:28.228017",
     "status": "completed"
    },
    "tags": []
   },
   "outputs": [
    {
     "data": {
      "text/html": [
       "<div>\n",
       "<style scoped>\n",
       "    .dataframe tbody tr th:only-of-type {\n",
       "        vertical-align: middle;\n",
       "    }\n",
       "\n",
       "    .dataframe tbody tr th {\n",
       "        vertical-align: top;\n",
       "    }\n",
       "\n",
       "    .dataframe thead th {\n",
       "        text-align: right;\n",
       "    }\n",
       "</style>\n",
       "<table border=\"1\" class=\"dataframe\">\n",
       "  <thead>\n",
       "    <tr style=\"text-align: right;\">\n",
       "      <th></th>\n",
       "      <th>User_ID</th>\n",
       "      <th>Product_ID</th>\n",
       "      <th>Gender</th>\n",
       "      <th>Age</th>\n",
       "      <th>Occupation</th>\n",
       "      <th>City_Category</th>\n",
       "      <th>Stay_In_Current_City_Years</th>\n",
       "      <th>Marital_Status</th>\n",
       "      <th>Product_Category_1</th>\n",
       "      <th>Product_Category_2</th>\n",
       "      <th>Product_Category_3</th>\n",
       "      <th>Purchase</th>\n",
       "    </tr>\n",
       "  </thead>\n",
       "  <tbody>\n",
       "    <tr>\n",
       "      <th>count</th>\n",
       "      <td>1.668210e+05</td>\n",
       "      <td>166821.000000</td>\n",
       "      <td>166821.000000</td>\n",
       "      <td>166821.000000</td>\n",
       "      <td>166821.000000</td>\n",
       "      <td>166821.000000</td>\n",
       "      <td>166821.000000</td>\n",
       "      <td>166821.000000</td>\n",
       "      <td>166821.000000</td>\n",
       "      <td>166821.000000</td>\n",
       "      <td>166821.000000</td>\n",
       "      <td>166821.000000</td>\n",
       "    </tr>\n",
       "    <tr>\n",
       "      <th>mean</th>\n",
       "      <td>1.003037e+06</td>\n",
       "      <td>1471.491683</td>\n",
       "      <td>0.774645</td>\n",
       "      <td>2.455153</td>\n",
       "      <td>8.178886</td>\n",
       "      <td>1.087159</td>\n",
       "      <td>1.861690</td>\n",
       "      <td>0.402839</td>\n",
       "      <td>2.742766</td>\n",
       "      <td>6.896871</td>\n",
       "      <td>12.668243</td>\n",
       "      <td>11658.114980</td>\n",
       "    </tr>\n",
       "    <tr>\n",
       "      <th>std</th>\n",
       "      <td>1.732907e+03</td>\n",
       "      <td>942.668323</td>\n",
       "      <td>0.417817</td>\n",
       "      <td>1.335119</td>\n",
       "      <td>6.487522</td>\n",
       "      <td>0.759824</td>\n",
       "      <td>1.284791</td>\n",
       "      <td>0.490470</td>\n",
       "      <td>2.573969</td>\n",
       "      <td>4.500288</td>\n",
       "      <td>4.125338</td>\n",
       "      <td>5082.287959</td>\n",
       "    </tr>\n",
       "    <tr>\n",
       "      <th>min</th>\n",
       "      <td>1.000001e+06</td>\n",
       "      <td>0.000000</td>\n",
       "      <td>0.000000</td>\n",
       "      <td>0.000000</td>\n",
       "      <td>0.000000</td>\n",
       "      <td>0.000000</td>\n",
       "      <td>0.000000</td>\n",
       "      <td>0.000000</td>\n",
       "      <td>1.000000</td>\n",
       "      <td>2.000000</td>\n",
       "      <td>3.000000</td>\n",
       "      <td>185.000000</td>\n",
       "    </tr>\n",
       "    <tr>\n",
       "      <th>25%</th>\n",
       "      <td>1.001523e+06</td>\n",
       "      <td>745.000000</td>\n",
       "      <td>1.000000</td>\n",
       "      <td>2.000000</td>\n",
       "      <td>2.000000</td>\n",
       "      <td>1.000000</td>\n",
       "      <td>1.000000</td>\n",
       "      <td>0.000000</td>\n",
       "      <td>1.000000</td>\n",
       "      <td>2.000000</td>\n",
       "      <td>9.000000</td>\n",
       "      <td>7869.000000</td>\n",
       "    </tr>\n",
       "    <tr>\n",
       "      <th>50%</th>\n",
       "      <td>1.003101e+06</td>\n",
       "      <td>1334.000000</td>\n",
       "      <td>1.000000</td>\n",
       "      <td>2.000000</td>\n",
       "      <td>7.000000</td>\n",
       "      <td>1.000000</td>\n",
       "      <td>2.000000</td>\n",
       "      <td>0.000000</td>\n",
       "      <td>1.000000</td>\n",
       "      <td>6.000000</td>\n",
       "      <td>14.000000</td>\n",
       "      <td>11756.000000</td>\n",
       "    </tr>\n",
       "    <tr>\n",
       "      <th>75%</th>\n",
       "      <td>1.004480e+06</td>\n",
       "      <td>2106.000000</td>\n",
       "      <td>1.000000</td>\n",
       "      <td>3.000000</td>\n",
       "      <td>14.000000</td>\n",
       "      <td>2.000000</td>\n",
       "      <td>3.000000</td>\n",
       "      <td>1.000000</td>\n",
       "      <td>4.000000</td>\n",
       "      <td>10.000000</td>\n",
       "      <td>16.000000</td>\n",
       "      <td>15626.000000</td>\n",
       "    </tr>\n",
       "    <tr>\n",
       "      <th>max</th>\n",
       "      <td>1.006040e+06</td>\n",
       "      <td>3630.000000</td>\n",
       "      <td>1.000000</td>\n",
       "      <td>6.000000</td>\n",
       "      <td>20.000000</td>\n",
       "      <td>2.000000</td>\n",
       "      <td>4.000000</td>\n",
       "      <td>1.000000</td>\n",
       "      <td>15.000000</td>\n",
       "      <td>16.000000</td>\n",
       "      <td>18.000000</td>\n",
       "      <td>23959.000000</td>\n",
       "    </tr>\n",
       "  </tbody>\n",
       "</table>\n",
       "</div>"
      ],
      "text/plain": [
       "            User_ID     Product_ID         Gender            Age  \\\n",
       "count  1.668210e+05  166821.000000  166821.000000  166821.000000   \n",
       "mean   1.003037e+06    1471.491683       0.774645       2.455153   \n",
       "std    1.732907e+03     942.668323       0.417817       1.335119   \n",
       "min    1.000001e+06       0.000000       0.000000       0.000000   \n",
       "25%    1.001523e+06     745.000000       1.000000       2.000000   \n",
       "50%    1.003101e+06    1334.000000       1.000000       2.000000   \n",
       "75%    1.004480e+06    2106.000000       1.000000       3.000000   \n",
       "max    1.006040e+06    3630.000000       1.000000       6.000000   \n",
       "\n",
       "          Occupation  City_Category  Stay_In_Current_City_Years  \\\n",
       "count  166821.000000  166821.000000               166821.000000   \n",
       "mean        8.178886       1.087159                    1.861690   \n",
       "std         6.487522       0.759824                    1.284791   \n",
       "min         0.000000       0.000000                    0.000000   \n",
       "25%         2.000000       1.000000                    1.000000   \n",
       "50%         7.000000       1.000000                    2.000000   \n",
       "75%        14.000000       2.000000                    3.000000   \n",
       "max        20.000000       2.000000                    4.000000   \n",
       "\n",
       "       Marital_Status  Product_Category_1  Product_Category_2  \\\n",
       "count   166821.000000       166821.000000       166821.000000   \n",
       "mean         0.402839            2.742766            6.896871   \n",
       "std          0.490470            2.573969            4.500288   \n",
       "min          0.000000            1.000000            2.000000   \n",
       "25%          0.000000            1.000000            2.000000   \n",
       "50%          0.000000            1.000000            6.000000   \n",
       "75%          1.000000            4.000000           10.000000   \n",
       "max          1.000000           15.000000           16.000000   \n",
       "\n",
       "       Product_Category_3       Purchase  \n",
       "count       166821.000000  166821.000000  \n",
       "mean            12.668243   11658.114980  \n",
       "std              4.125338    5082.287959  \n",
       "min              3.000000     185.000000  \n",
       "25%              9.000000    7869.000000  \n",
       "50%             14.000000   11756.000000  \n",
       "75%             16.000000   15626.000000  \n",
       "max             18.000000   23959.000000  "
      ]
     },
     "execution_count": 32,
     "metadata": {},
     "output_type": "execute_result"
    }
   ],
   "source": [
    "data.describe()"
   ]
  },
  {
   "cell_type": "code",
   "execution_count": 33,
   "id": "3ec6fe25",
   "metadata": {
    "execution": {
     "iopub.execute_input": "2023-02-28T05:15:28.409454Z",
     "iopub.status.busy": "2023-02-28T05:15:28.409029Z",
     "iopub.status.idle": "2023-02-28T05:15:28.420457Z",
     "shell.execute_reply": "2023-02-28T05:15:28.419229Z"
    },
    "papermill": {
     "duration": 0.040254,
     "end_time": "2023-02-28T05:15:28.422694",
     "exception": false,
     "start_time": "2023-02-28T05:15:28.382440",
     "status": "completed"
    },
    "tags": []
   },
   "outputs": [
    {
     "data": {
      "text/plain": [
       "Age\n",
       "0    11172.358711\n",
       "1    11580.858539\n",
       "2    11612.248065\n",
       "3    11729.364398\n",
       "4    11663.978017\n",
       "5    12035.504299\n",
       "6    11861.524638\n",
       "Name: Purchase, dtype: float64"
      ]
     },
     "execution_count": 33,
     "metadata": {},
     "output_type": "execute_result"
    }
   ],
   "source": [
    "data.groupby('Age')['Purchase'].mean()"
   ]
  },
  {
   "cell_type": "markdown",
   "id": "bc8262d4",
   "metadata": {
    "papermill": {
     "duration": 0.02481,
     "end_time": "2023-02-28T05:15:28.472989",
     "exception": false,
     "start_time": "2023-02-28T05:15:28.448179",
     "status": "completed"
    },
    "tags": []
   },
   "source": [
    "Let's check whether the mean purchase of age group 18-25 is 10000"
   ]
  },
  {
   "cell_type": "code",
   "execution_count": 34,
   "id": "82c8a04b",
   "metadata": {
    "execution": {
     "iopub.execute_input": "2023-02-28T05:15:28.525212Z",
     "iopub.status.busy": "2023-02-28T05:15:28.524738Z",
     "iopub.status.idle": "2023-02-28T05:15:28.534028Z",
     "shell.execute_reply": "2023-02-28T05:15:28.533100Z"
    },
    "papermill": {
     "duration": 0.038613,
     "end_time": "2023-02-28T05:15:28.536509",
     "exception": false,
     "start_time": "2023-02-28T05:15:28.497896",
     "status": "completed"
    },
    "tags": []
   },
   "outputs": [],
   "source": [
    "new_data = data.loc[(data['Age'] == 1) & (data['Gender'] == 1)]"
   ]
  },
  {
   "cell_type": "code",
   "execution_count": 35,
   "id": "53ede3dc",
   "metadata": {
    "execution": {
     "iopub.execute_input": "2023-02-28T05:15:28.588826Z",
     "iopub.status.busy": "2023-02-28T05:15:28.588393Z",
     "iopub.status.idle": "2023-02-28T05:15:28.595661Z",
     "shell.execute_reply": "2023-02-28T05:15:28.594317Z"
    },
    "papermill": {
     "duration": 0.036775,
     "end_time": "2023-02-28T05:15:28.598248",
     "exception": false,
     "start_time": "2023-02-28T05:15:28.561473",
     "status": "completed"
    },
    "tags": []
   },
   "outputs": [
    {
     "data": {
      "text/plain": [
       "(24239, 12)"
      ]
     },
     "execution_count": 35,
     "metadata": {},
     "output_type": "execute_result"
    }
   ],
   "source": [
    "new_data.shape"
   ]
  },
  {
   "cell_type": "code",
   "execution_count": 36,
   "id": "0e5d3cf3",
   "metadata": {
    "execution": {
     "iopub.execute_input": "2023-02-28T05:15:28.651651Z",
     "iopub.status.busy": "2023-02-28T05:15:28.650486Z",
     "iopub.status.idle": "2023-02-28T05:15:28.658840Z",
     "shell.execute_reply": "2023-02-28T05:15:28.657931Z"
    },
    "papermill": {
     "duration": 0.037658,
     "end_time": "2023-02-28T05:15:28.661202",
     "exception": false,
     "start_time": "2023-02-28T05:15:28.623544",
     "status": "completed"
    },
    "tags": []
   },
   "outputs": [],
   "source": [
    "sample_size = 1000\n",
    "sample = new_data.sample(sample_size,random_state = 44)"
   ]
  },
  {
   "cell_type": "code",
   "execution_count": 37,
   "id": "e7a78567",
   "metadata": {
    "execution": {
     "iopub.execute_input": "2023-02-28T05:15:28.713941Z",
     "iopub.status.busy": "2023-02-28T05:15:28.713579Z",
     "iopub.status.idle": "2023-02-28T05:15:28.727815Z",
     "shell.execute_reply": "2023-02-28T05:15:28.726482Z"
    },
    "papermill": {
     "duration": 0.043578,
     "end_time": "2023-02-28T05:15:28.730340",
     "exception": false,
     "start_time": "2023-02-28T05:15:28.686762",
     "status": "completed"
    },
    "tags": []
   },
   "outputs": [
    {
     "data": {
      "text/html": [
       "<div>\n",
       "<style scoped>\n",
       "    .dataframe tbody tr th:only-of-type {\n",
       "        vertical-align: middle;\n",
       "    }\n",
       "\n",
       "    .dataframe tbody tr th {\n",
       "        vertical-align: top;\n",
       "    }\n",
       "\n",
       "    .dataframe thead th {\n",
       "        text-align: right;\n",
       "    }\n",
       "</style>\n",
       "<table border=\"1\" class=\"dataframe\">\n",
       "  <thead>\n",
       "    <tr style=\"text-align: right;\">\n",
       "      <th></th>\n",
       "      <th>User_ID</th>\n",
       "      <th>Product_ID</th>\n",
       "      <th>Gender</th>\n",
       "      <th>Age</th>\n",
       "      <th>Occupation</th>\n",
       "      <th>City_Category</th>\n",
       "      <th>Stay_In_Current_City_Years</th>\n",
       "      <th>Marital_Status</th>\n",
       "      <th>Product_Category_1</th>\n",
       "      <th>Product_Category_2</th>\n",
       "      <th>Product_Category_3</th>\n",
       "      <th>Purchase</th>\n",
       "    </tr>\n",
       "  </thead>\n",
       "  <tbody>\n",
       "    <tr>\n",
       "      <th>161710</th>\n",
       "      <td>1001035</td>\n",
       "      <td>780</td>\n",
       "      <td>1</td>\n",
       "      <td>1</td>\n",
       "      <td>2</td>\n",
       "      <td>2</td>\n",
       "      <td>1</td>\n",
       "      <td>1</td>\n",
       "      <td>1</td>\n",
       "      <td>6.0</td>\n",
       "      <td>8.0</td>\n",
       "      <td>19252</td>\n",
       "    </tr>\n",
       "    <tr>\n",
       "      <th>423459</th>\n",
       "      <td>1005167</td>\n",
       "      <td>838</td>\n",
       "      <td>1</td>\n",
       "      <td>1</td>\n",
       "      <td>15</td>\n",
       "      <td>2</td>\n",
       "      <td>3</td>\n",
       "      <td>0</td>\n",
       "      <td>8</td>\n",
       "      <td>13.0</td>\n",
       "      <td>15.0</td>\n",
       "      <td>9709</td>\n",
       "    </tr>\n",
       "    <tr>\n",
       "      <th>204137</th>\n",
       "      <td>1001495</td>\n",
       "      <td>529</td>\n",
       "      <td>1</td>\n",
       "      <td>1</td>\n",
       "      <td>0</td>\n",
       "      <td>2</td>\n",
       "      <td>1</td>\n",
       "      <td>0</td>\n",
       "      <td>4</td>\n",
       "      <td>5.0</td>\n",
       "      <td>12.0</td>\n",
       "      <td>2743</td>\n",
       "    </tr>\n",
       "    <tr>\n",
       "      <th>46298</th>\n",
       "      <td>1001133</td>\n",
       "      <td>582</td>\n",
       "      <td>1</td>\n",
       "      <td>1</td>\n",
       "      <td>2</td>\n",
       "      <td>2</td>\n",
       "      <td>0</td>\n",
       "      <td>0</td>\n",
       "      <td>6</td>\n",
       "      <td>8.0</td>\n",
       "      <td>16.0</td>\n",
       "      <td>16411</td>\n",
       "    </tr>\n",
       "    <tr>\n",
       "      <th>208704</th>\n",
       "      <td>1002116</td>\n",
       "      <td>279</td>\n",
       "      <td>1</td>\n",
       "      <td>1</td>\n",
       "      <td>4</td>\n",
       "      <td>1</td>\n",
       "      <td>4</td>\n",
       "      <td>1</td>\n",
       "      <td>1</td>\n",
       "      <td>8.0</td>\n",
       "      <td>16.0</td>\n",
       "      <td>15581</td>\n",
       "    </tr>\n",
       "  </tbody>\n",
       "</table>\n",
       "</div>"
      ],
      "text/plain": [
       "        User_ID  Product_ID  Gender  Age  Occupation  City_Category  \\\n",
       "161710  1001035         780       1    1           2              2   \n",
       "423459  1005167         838       1    1          15              2   \n",
       "204137  1001495         529       1    1           0              2   \n",
       "46298   1001133         582       1    1           2              2   \n",
       "208704  1002116         279       1    1           4              1   \n",
       "\n",
       "        Stay_In_Current_City_Years  Marital_Status  Product_Category_1  \\\n",
       "161710                           1               1                   1   \n",
       "423459                           3               0                   8   \n",
       "204137                           1               0                   4   \n",
       "46298                            0               0                   6   \n",
       "208704                           4               1                   1   \n",
       "\n",
       "        Product_Category_2  Product_Category_3  Purchase  \n",
       "161710                 6.0                 8.0     19252  \n",
       "423459                13.0                15.0      9709  \n",
       "204137                 5.0                12.0      2743  \n",
       "46298                  8.0                16.0     16411  \n",
       "208704                 8.0                16.0     15581  "
      ]
     },
     "execution_count": 37,
     "metadata": {},
     "output_type": "execute_result"
    }
   ],
   "source": [
    "sample.head()"
   ]
  },
  {
   "cell_type": "code",
   "execution_count": 38,
   "id": "8e683e6b",
   "metadata": {
    "execution": {
     "iopub.execute_input": "2023-02-28T05:15:28.784869Z",
     "iopub.status.busy": "2023-02-28T05:15:28.784146Z",
     "iopub.status.idle": "2023-02-28T05:15:28.788591Z",
     "shell.execute_reply": "2023-02-28T05:15:28.787530Z"
    },
    "papermill": {
     "duration": 0.034246,
     "end_time": "2023-02-28T05:15:28.790949",
     "exception": false,
     "start_time": "2023-02-28T05:15:28.756703",
     "status": "completed"
    },
    "tags": []
   },
   "outputs": [],
   "source": [
    "p_mean = 10000"
   ]
  },
  {
   "cell_type": "code",
   "execution_count": 39,
   "id": "30fa98ea",
   "metadata": {
    "execution": {
     "iopub.execute_input": "2023-02-28T05:15:28.844456Z",
     "iopub.status.busy": "2023-02-28T05:15:28.843988Z",
     "iopub.status.idle": "2023-02-28T05:15:28.850012Z",
     "shell.execute_reply": "2023-02-28T05:15:28.848774Z"
    },
    "papermill": {
     "duration": 0.035823,
     "end_time": "2023-02-28T05:15:28.852680",
     "exception": false,
     "start_time": "2023-02-28T05:15:28.816857",
     "status": "completed"
    },
    "tags": []
   },
   "outputs": [],
   "source": [
    "sample_mean = sample['Purchase'].mean()"
   ]
  },
  {
   "cell_type": "code",
   "execution_count": 40,
   "id": "f31edc3a",
   "metadata": {
    "execution": {
     "iopub.execute_input": "2023-02-28T05:15:28.908011Z",
     "iopub.status.busy": "2023-02-28T05:15:28.907184Z",
     "iopub.status.idle": "2023-02-28T05:15:28.913872Z",
     "shell.execute_reply": "2023-02-28T05:15:28.912285Z"
    },
    "papermill": {
     "duration": 0.038055,
     "end_time": "2023-02-28T05:15:28.917095",
     "exception": false,
     "start_time": "2023-02-28T05:15:28.879040",
     "status": "completed"
    },
    "tags": []
   },
   "outputs": [
    {
     "name": "stdout",
     "output_type": "stream",
     "text": [
      "11909.363\n"
     ]
    }
   ],
   "source": [
    "print(sample_mean)"
   ]
  },
  {
   "cell_type": "code",
   "execution_count": 41,
   "id": "ed2d8bfb",
   "metadata": {
    "execution": {
     "iopub.execute_input": "2023-02-28T05:15:28.972083Z",
     "iopub.status.busy": "2023-02-28T05:15:28.971183Z",
     "iopub.status.idle": "2023-02-28T05:15:28.976917Z",
     "shell.execute_reply": "2023-02-28T05:15:28.975952Z"
    },
    "papermill": {
     "duration": 0.036271,
     "end_time": "2023-02-28T05:15:28.979412",
     "exception": false,
     "start_time": "2023-02-28T05:15:28.943141",
     "status": "completed"
    },
    "tags": []
   },
   "outputs": [],
   "source": [
    "from scipy.stats import ttest_1samp"
   ]
  },
  {
   "cell_type": "code",
   "execution_count": 42,
   "id": "c7393c20",
   "metadata": {
    "execution": {
     "iopub.execute_input": "2023-02-28T05:15:29.033859Z",
     "iopub.status.busy": "2023-02-28T05:15:29.033465Z",
     "iopub.status.idle": "2023-02-28T05:15:29.040693Z",
     "shell.execute_reply": "2023-02-28T05:15:29.039525Z"
    },
    "papermill": {
     "duration": 0.037727,
     "end_time": "2023-02-28T05:15:29.043120",
     "exception": false,
     "start_time": "2023-02-28T05:15:29.005393",
     "status": "completed"
    },
    "tags": []
   },
   "outputs": [],
   "source": [
    "t_stat,p_value = ttest_1samp(sample['Purchase'],p_mean)"
   ]
  },
  {
   "cell_type": "code",
   "execution_count": 43,
   "id": "34f4ee97",
   "metadata": {
    "execution": {
     "iopub.execute_input": "2023-02-28T05:15:29.099645Z",
     "iopub.status.busy": "2023-02-28T05:15:29.099227Z",
     "iopub.status.idle": "2023-02-28T05:15:29.104230Z",
     "shell.execute_reply": "2023-02-28T05:15:29.103254Z"
    },
    "papermill": {
     "duration": 0.03697,
     "end_time": "2023-02-28T05:15:29.107439",
     "exception": false,
     "start_time": "2023-02-28T05:15:29.070469",
     "status": "completed"
    },
    "tags": []
   },
   "outputs": [
    {
     "name": "stdout",
     "output_type": "stream",
     "text": [
      "11.956212280195817 6.892012463932351e-31\n"
     ]
    }
   ],
   "source": [
    "print(t_stat,p_value)"
   ]
  },
  {
   "cell_type": "markdown",
   "id": "353efffe",
   "metadata": {
    "papermill": {
     "duration": 0.025621,
     "end_time": "2023-02-28T05:15:29.160173",
     "exception": false,
     "start_time": "2023-02-28T05:15:29.134552",
     "status": "completed"
    },
    "tags": []
   },
   "source": [
    "reject the hypothesis"
   ]
  },
  {
   "cell_type": "markdown",
   "id": "78fdfe7f",
   "metadata": {
    "papermill": {
     "duration": 0.025348,
     "end_time": "2023-02-28T05:15:29.211212",
     "exception": false,
     "start_time": "2023-02-28T05:15:29.185864",
     "status": "completed"
    },
    "tags": []
   },
   "source": [
    "Let's check whether the percentage of women of the age spend more than 10000 is 35%"
   ]
  },
  {
   "cell_type": "code",
   "execution_count": 44,
   "id": "344be0ee",
   "metadata": {
    "execution": {
     "iopub.execute_input": "2023-02-28T05:15:29.264805Z",
     "iopub.status.busy": "2023-02-28T05:15:29.264079Z",
     "iopub.status.idle": "2023-02-28T05:15:29.282750Z",
     "shell.execute_reply": "2023-02-28T05:15:29.281554Z"
    },
    "papermill": {
     "duration": 0.048057,
     "end_time": "2023-02-28T05:15:29.285077",
     "exception": false,
     "start_time": "2023-02-28T05:15:29.237020",
     "status": "completed"
    },
    "tags": []
   },
   "outputs": [
    {
     "data": {
      "text/plain": [
       "Age  Gender\n",
       "0    0         10563.799618\n",
       "     1         11462.166313\n",
       "1    0         10649.285714\n",
       "     1         11852.847518\n",
       "2    0         11121.132071\n",
       "     1         11737.797554\n",
       "3    0         11306.631218\n",
       "     1         11860.485731\n",
       "4    0         11202.366914\n",
       "     1         11836.140335\n",
       "5    0         11435.320732\n",
       "     1         12209.809315\n",
       "6    0         11353.872093\n",
       "     1         12004.666011\n",
       "Name: Purchase, dtype: float64"
      ]
     },
     "execution_count": 44,
     "metadata": {},
     "output_type": "execute_result"
    }
   ],
   "source": [
    "data.groupby(['Age','Gender'])['Purchase'].mean()"
   ]
  },
  {
   "cell_type": "code",
   "execution_count": 45,
   "id": "18dec39c",
   "metadata": {
    "execution": {
     "iopub.execute_input": "2023-02-28T05:15:29.338260Z",
     "iopub.status.busy": "2023-02-28T05:15:29.337757Z",
     "iopub.status.idle": "2023-02-28T05:15:29.361250Z",
     "shell.execute_reply": "2023-02-28T05:15:29.360080Z"
    },
    "papermill": {
     "duration": 0.052904,
     "end_time": "2023-02-28T05:15:29.363689",
     "exception": false,
     "start_time": "2023-02-28T05:15:29.310785",
     "status": "completed"
    },
    "tags": []
   },
   "outputs": [
    {
     "data": {
      "text/html": [
       "<div>\n",
       "<style scoped>\n",
       "    .dataframe tbody tr th:only-of-type {\n",
       "        vertical-align: middle;\n",
       "    }\n",
       "\n",
       "    .dataframe tbody tr th {\n",
       "        vertical-align: top;\n",
       "    }\n",
       "\n",
       "    .dataframe thead th {\n",
       "        text-align: right;\n",
       "    }\n",
       "</style>\n",
       "<table border=\"1\" class=\"dataframe\">\n",
       "  <thead>\n",
       "    <tr style=\"text-align: right;\">\n",
       "      <th></th>\n",
       "      <th>User_ID</th>\n",
       "      <th>Product_ID</th>\n",
       "      <th>Gender</th>\n",
       "      <th>Age</th>\n",
       "      <th>Occupation</th>\n",
       "      <th>City_Category</th>\n",
       "      <th>Stay_In_Current_City_Years</th>\n",
       "      <th>Marital_Status</th>\n",
       "      <th>Product_Category_1</th>\n",
       "      <th>Product_Category_2</th>\n",
       "      <th>Product_Category_3</th>\n",
       "      <th>Purchase</th>\n",
       "    </tr>\n",
       "  </thead>\n",
       "  <tbody>\n",
       "    <tr>\n",
       "      <th>1</th>\n",
       "      <td>1000001</td>\n",
       "      <td>2376</td>\n",
       "      <td>0</td>\n",
       "      <td>0</td>\n",
       "      <td>10</td>\n",
       "      <td>0</td>\n",
       "      <td>2</td>\n",
       "      <td>0</td>\n",
       "      <td>1</td>\n",
       "      <td>6.0</td>\n",
       "      <td>14.0</td>\n",
       "      <td>15200</td>\n",
       "    </tr>\n",
       "    <tr>\n",
       "      <th>16</th>\n",
       "      <td>1000006</td>\n",
       "      <td>3598</td>\n",
       "      <td>0</td>\n",
       "      <td>5</td>\n",
       "      <td>9</td>\n",
       "      <td>0</td>\n",
       "      <td>1</td>\n",
       "      <td>0</td>\n",
       "      <td>2</td>\n",
       "      <td>3.0</td>\n",
       "      <td>4.0</td>\n",
       "      <td>13055</td>\n",
       "    </tr>\n",
       "    <tr>\n",
       "      <th>29</th>\n",
       "      <td>1000010</td>\n",
       "      <td>833</td>\n",
       "      <td>0</td>\n",
       "      <td>3</td>\n",
       "      <td>1</td>\n",
       "      <td>1</td>\n",
       "      <td>4</td>\n",
       "      <td>1</td>\n",
       "      <td>2</td>\n",
       "      <td>4.0</td>\n",
       "      <td>8.0</td>\n",
       "      <td>16352</td>\n",
       "    </tr>\n",
       "    <tr>\n",
       "      <th>36</th>\n",
       "      <td>1000010</td>\n",
       "      <td>1722</td>\n",
       "      <td>0</td>\n",
       "      <td>3</td>\n",
       "      <td>1</td>\n",
       "      <td>1</td>\n",
       "      <td>4</td>\n",
       "      <td>1</td>\n",
       "      <td>2</td>\n",
       "      <td>4.0</td>\n",
       "      <td>9.0</td>\n",
       "      <td>12909</td>\n",
       "    </tr>\n",
       "    <tr>\n",
       "      <th>38</th>\n",
       "      <td>1000010</td>\n",
       "      <td>1459</td>\n",
       "      <td>0</td>\n",
       "      <td>3</td>\n",
       "      <td>1</td>\n",
       "      <td>1</td>\n",
       "      <td>4</td>\n",
       "      <td>1</td>\n",
       "      <td>1</td>\n",
       "      <td>11.0</td>\n",
       "      <td>15.0</td>\n",
       "      <td>15212</td>\n",
       "    </tr>\n",
       "    <tr>\n",
       "      <th>...</th>\n",
       "      <td>...</td>\n",
       "      <td>...</td>\n",
       "      <td>...</td>\n",
       "      <td>...</td>\n",
       "      <td>...</td>\n",
       "      <td>...</td>\n",
       "      <td>...</td>\n",
       "      <td>...</td>\n",
       "      <td>...</td>\n",
       "      <td>...</td>\n",
       "      <td>...</td>\n",
       "      <td>...</td>\n",
       "    </tr>\n",
       "    <tr>\n",
       "      <th>545781</th>\n",
       "      <td>1006017</td>\n",
       "      <td>883</td>\n",
       "      <td>0</td>\n",
       "      <td>3</td>\n",
       "      <td>7</td>\n",
       "      <td>1</td>\n",
       "      <td>1</td>\n",
       "      <td>0</td>\n",
       "      <td>1</td>\n",
       "      <td>2.0</td>\n",
       "      <td>14.0</td>\n",
       "      <td>15168</td>\n",
       "    </tr>\n",
       "    <tr>\n",
       "      <th>545841</th>\n",
       "      <td>1006031</td>\n",
       "      <td>1186</td>\n",
       "      <td>0</td>\n",
       "      <td>1</td>\n",
       "      <td>0</td>\n",
       "      <td>2</td>\n",
       "      <td>1</td>\n",
       "      <td>0</td>\n",
       "      <td>1</td>\n",
       "      <td>2.0</td>\n",
       "      <td>15.0</td>\n",
       "      <td>19579</td>\n",
       "    </tr>\n",
       "    <tr>\n",
       "      <th>545882</th>\n",
       "      <td>1006036</td>\n",
       "      <td>2587</td>\n",
       "      <td>0</td>\n",
       "      <td>2</td>\n",
       "      <td>15</td>\n",
       "      <td>1</td>\n",
       "      <td>4</td>\n",
       "      <td>1</td>\n",
       "      <td>1</td>\n",
       "      <td>6.0</td>\n",
       "      <td>8.0</td>\n",
       "      <td>15653</td>\n",
       "    </tr>\n",
       "    <tr>\n",
       "      <th>545887</th>\n",
       "      <td>1006036</td>\n",
       "      <td>1185</td>\n",
       "      <td>0</td>\n",
       "      <td>2</td>\n",
       "      <td>15</td>\n",
       "      <td>1</td>\n",
       "      <td>4</td>\n",
       "      <td>1</td>\n",
       "      <td>1</td>\n",
       "      <td>2.0</td>\n",
       "      <td>15.0</td>\n",
       "      <td>11398</td>\n",
       "    </tr>\n",
       "    <tr>\n",
       "      <th>545892</th>\n",
       "      <td>1006037</td>\n",
       "      <td>1391</td>\n",
       "      <td>0</td>\n",
       "      <td>4</td>\n",
       "      <td>1</td>\n",
       "      <td>2</td>\n",
       "      <td>4</td>\n",
       "      <td>0</td>\n",
       "      <td>6</td>\n",
       "      <td>10.0</td>\n",
       "      <td>13.0</td>\n",
       "      <td>11952</td>\n",
       "    </tr>\n",
       "  </tbody>\n",
       "</table>\n",
       "<p>21124 rows × 12 columns</p>\n",
       "</div>"
      ],
      "text/plain": [
       "        User_ID  Product_ID  Gender  Age  Occupation  City_Category  \\\n",
       "1       1000001        2376       0    0          10              0   \n",
       "16      1000006        3598       0    5           9              0   \n",
       "29      1000010         833       0    3           1              1   \n",
       "36      1000010        1722       0    3           1              1   \n",
       "38      1000010        1459       0    3           1              1   \n",
       "...         ...         ...     ...  ...         ...            ...   \n",
       "545781  1006017         883       0    3           7              1   \n",
       "545841  1006031        1186       0    1           0              2   \n",
       "545882  1006036        2587       0    2          15              1   \n",
       "545887  1006036        1185       0    2          15              1   \n",
       "545892  1006037        1391       0    4           1              2   \n",
       "\n",
       "        Stay_In_Current_City_Years  Marital_Status  Product_Category_1  \\\n",
       "1                                2               0                   1   \n",
       "16                               1               0                   2   \n",
       "29                               4               1                   2   \n",
       "36                               4               1                   2   \n",
       "38                               4               1                   1   \n",
       "...                            ...             ...                 ...   \n",
       "545781                           1               0                   1   \n",
       "545841                           1               0                   1   \n",
       "545882                           4               1                   1   \n",
       "545887                           4               1                   1   \n",
       "545892                           4               0                   6   \n",
       "\n",
       "        Product_Category_2  Product_Category_3  Purchase  \n",
       "1                      6.0                14.0     15200  \n",
       "16                     3.0                 4.0     13055  \n",
       "29                     4.0                 8.0     16352  \n",
       "36                     4.0                 9.0     12909  \n",
       "38                    11.0                15.0     15212  \n",
       "...                    ...                 ...       ...  \n",
       "545781                 2.0                14.0     15168  \n",
       "545841                 2.0                15.0     19579  \n",
       "545882                 6.0                 8.0     15653  \n",
       "545887                 2.0                15.0     11398  \n",
       "545892                10.0                13.0     11952  \n",
       "\n",
       "[21124 rows x 12 columns]"
      ]
     },
     "execution_count": 45,
     "metadata": {},
     "output_type": "execute_result"
    }
   ],
   "source": [
    "df = data[(data['Purchase']>10000) & (data['Gender'] == 0)]\n",
    "df"
   ]
  },
  {
   "cell_type": "code",
   "execution_count": 46,
   "id": "1b3abe9e",
   "metadata": {
    "execution": {
     "iopub.execute_input": "2023-02-28T05:15:29.420017Z",
     "iopub.status.busy": "2023-02-28T05:15:29.418734Z",
     "iopub.status.idle": "2023-02-28T05:15:29.429048Z",
     "shell.execute_reply": "2023-02-28T05:15:29.428235Z"
    },
    "papermill": {
     "duration": 0.040949,
     "end_time": "2023-02-28T05:15:29.431366",
     "exception": false,
     "start_time": "2023-02-28T05:15:29.390417",
     "status": "completed"
    },
    "tags": []
   },
   "outputs": [],
   "source": [
    "data_new = data.loc[(data['Purchase']>10000)]"
   ]
  },
  {
   "cell_type": "code",
   "execution_count": 47,
   "id": "70b5f187",
   "metadata": {
    "execution": {
     "iopub.execute_input": "2023-02-28T05:15:29.487501Z",
     "iopub.status.busy": "2023-02-28T05:15:29.486380Z",
     "iopub.status.idle": "2023-02-28T05:15:29.492863Z",
     "shell.execute_reply": "2023-02-28T05:15:29.492036Z"
    },
    "papermill": {
     "duration": 0.036865,
     "end_time": "2023-02-28T05:15:29.495061",
     "exception": false,
     "start_time": "2023-02-28T05:15:29.458196",
     "status": "completed"
    },
    "tags": []
   },
   "outputs": [
    {
     "data": {
      "text/plain": [
       "(102477, 12)"
      ]
     },
     "execution_count": 47,
     "metadata": {},
     "output_type": "execute_result"
    }
   ],
   "source": [
    "data_new.shape"
   ]
  },
  {
   "cell_type": "code",
   "execution_count": 48,
   "id": "708b83ce",
   "metadata": {
    "execution": {
     "iopub.execute_input": "2023-02-28T05:15:29.552548Z",
     "iopub.status.busy": "2023-02-28T05:15:29.551617Z",
     "iopub.status.idle": "2023-02-28T05:15:29.559449Z",
     "shell.execute_reply": "2023-02-28T05:15:29.558384Z"
    },
    "papermill": {
     "duration": 0.038901,
     "end_time": "2023-02-28T05:15:29.561877",
     "exception": false,
     "start_time": "2023-02-28T05:15:29.522976",
     "status": "completed"
    },
    "tags": []
   },
   "outputs": [],
   "source": [
    "count = data_new['Gender'].value_counts()[0]\n",
    "nobs = len(data_new['Gender'])\n",
    "p0 = 0.35"
   ]
  },
  {
   "cell_type": "code",
   "execution_count": 49,
   "id": "7fc8d215",
   "metadata": {
    "execution": {
     "iopub.execute_input": "2023-02-28T05:15:29.618476Z",
     "iopub.status.busy": "2023-02-28T05:15:29.617117Z",
     "iopub.status.idle": "2023-02-28T05:15:29.623885Z",
     "shell.execute_reply": "2023-02-28T05:15:29.622826Z"
    },
    "papermill": {
     "duration": 0.037565,
     "end_time": "2023-02-28T05:15:29.626229",
     "exception": false,
     "start_time": "2023-02-28T05:15:29.588664",
     "status": "completed"
    },
    "tags": []
   },
   "outputs": [
    {
     "data": {
      "text/plain": [
       "21124"
      ]
     },
     "execution_count": 49,
     "metadata": {},
     "output_type": "execute_result"
    }
   ],
   "source": [
    "count"
   ]
  },
  {
   "cell_type": "code",
   "execution_count": 50,
   "id": "9a9e7ddc",
   "metadata": {
    "execution": {
     "iopub.execute_input": "2023-02-28T05:15:29.682553Z",
     "iopub.status.busy": "2023-02-28T05:15:29.681494Z",
     "iopub.status.idle": "2023-02-28T05:15:29.688784Z",
     "shell.execute_reply": "2023-02-28T05:15:29.687795Z"
    },
    "papermill": {
     "duration": 0.037894,
     "end_time": "2023-02-28T05:15:29.691152",
     "exception": false,
     "start_time": "2023-02-28T05:15:29.653258",
     "status": "completed"
    },
    "tags": []
   },
   "outputs": [
    {
     "data": {
      "text/plain": [
       "102477"
      ]
     },
     "execution_count": 50,
     "metadata": {},
     "output_type": "execute_result"
    }
   ],
   "source": [
    "nobs"
   ]
  },
  {
   "cell_type": "code",
   "execution_count": 51,
   "id": "4954f9dc",
   "metadata": {
    "execution": {
     "iopub.execute_input": "2023-02-28T05:15:29.747908Z",
     "iopub.status.busy": "2023-02-28T05:15:29.747152Z",
     "iopub.status.idle": "2023-02-28T05:15:29.757339Z",
     "shell.execute_reply": "2023-02-28T05:15:29.756142Z"
    },
    "papermill": {
     "duration": 0.041301,
     "end_time": "2023-02-28T05:15:29.759681",
     "exception": false,
     "start_time": "2023-02-28T05:15:29.718380",
     "status": "completed"
    },
    "tags": []
   },
   "outputs": [
    {
     "data": {
      "text/plain": [
       "1    0.793866\n",
       "0    0.206134\n",
       "Name: Gender, dtype: float64"
      ]
     },
     "execution_count": 51,
     "metadata": {},
     "output_type": "execute_result"
    }
   ],
   "source": [
    "data_new[\"Gender\"].value_counts()/nobs"
   ]
  },
  {
   "cell_type": "code",
   "execution_count": 52,
   "id": "33cab178",
   "metadata": {
    "execution": {
     "iopub.execute_input": "2023-02-28T05:15:29.816539Z",
     "iopub.status.busy": "2023-02-28T05:15:29.815788Z",
     "iopub.status.idle": "2023-02-28T05:15:29.868831Z",
     "shell.execute_reply": "2023-02-28T05:15:29.867930Z"
    },
    "papermill": {
     "duration": 0.08462,
     "end_time": "2023-02-28T05:15:29.871611",
     "exception": false,
     "start_time": "2023-02-28T05:15:29.786991",
     "status": "completed"
    },
    "tags": []
   },
   "outputs": [],
   "source": [
    "from statsmodels.stats.proportion import proportions_ztest"
   ]
  },
  {
   "cell_type": "code",
   "execution_count": 53,
   "id": "4bd0bb53",
   "metadata": {
    "execution": {
     "iopub.execute_input": "2023-02-28T05:15:29.927486Z",
     "iopub.status.busy": "2023-02-28T05:15:29.927039Z",
     "iopub.status.idle": "2023-02-28T05:15:29.933731Z",
     "shell.execute_reply": "2023-02-28T05:15:29.932589Z"
    },
    "papermill": {
     "duration": 0.037674,
     "end_time": "2023-02-28T05:15:29.936208",
     "exception": false,
     "start_time": "2023-02-28T05:15:29.898534",
     "status": "completed"
    },
    "tags": []
   },
   "outputs": [
    {
     "name": "stdout",
     "output_type": "stream",
     "text": [
      "-113.84729816907917 0.0\n"
     ]
    }
   ],
   "source": [
    "z_stat,p_value = proportions_ztest(count = count,nobs = nobs, value = p0)\n",
    "print(z_stat,p_value)"
   ]
  },
  {
   "cell_type": "markdown",
   "id": "1e937932",
   "metadata": {
    "papermill": {
     "duration": 0.026783,
     "end_time": "2023-02-28T05:15:29.990310",
     "exception": false,
     "start_time": "2023-02-28T05:15:29.963527",
     "status": "completed"
    },
    "tags": []
   },
   "source": [
    "reject the hypothesis"
   ]
  },
  {
   "cell_type": "markdown",
   "id": "bd135f57",
   "metadata": {
    "papermill": {
     "duration": 0.027073,
     "end_time": "2023-02-28T05:15:30.044820",
     "exception": false,
     "start_time": "2023-02-28T05:15:30.017747",
     "status": "completed"
    },
    "tags": []
   },
   "source": [
    "Is the average purchase made by men and women of the age 18-25 same?"
   ]
  },
  {
   "cell_type": "code",
   "execution_count": 54,
   "id": "412e7f4b",
   "metadata": {
    "execution": {
     "iopub.execute_input": "2023-02-28T05:15:30.102037Z",
     "iopub.status.busy": "2023-02-28T05:15:30.101275Z",
     "iopub.status.idle": "2023-02-28T05:15:30.113088Z",
     "shell.execute_reply": "2023-02-28T05:15:30.111516Z"
    },
    "papermill": {
     "duration": 0.043684,
     "end_time": "2023-02-28T05:15:30.115869",
     "exception": false,
     "start_time": "2023-02-28T05:15:30.072185",
     "status": "completed"
    },
    "tags": []
   },
   "outputs": [],
   "source": [
    "data_men = data.loc[(data['Gender'] == 1)& (data['Age'] == 1)]\n",
    "data_women = data.loc[(data['Gender'] == 0) & (data['Age'] == 1)]"
   ]
  },
  {
   "cell_type": "code",
   "execution_count": 55,
   "id": "29a49baf",
   "metadata": {
    "execution": {
     "iopub.execute_input": "2023-02-28T05:15:30.172770Z",
     "iopub.status.busy": "2023-02-28T05:15:30.171944Z",
     "iopub.status.idle": "2023-02-28T05:15:30.179382Z",
     "shell.execute_reply": "2023-02-28T05:15:30.178463Z"
    },
    "papermill": {
     "duration": 0.038343,
     "end_time": "2023-02-28T05:15:30.181505",
     "exception": false,
     "start_time": "2023-02-28T05:15:30.143162",
     "status": "completed"
    },
    "tags": []
   },
   "outputs": [],
   "source": [
    "data_men_sample = data_men.sample(500, random_state=0)\n",
    "data_women_sample = data_women.sample(500, random_state=0)"
   ]
  },
  {
   "cell_type": "code",
   "execution_count": 56,
   "id": "942d8e32",
   "metadata": {
    "execution": {
     "iopub.execute_input": "2023-02-28T05:15:30.238357Z",
     "iopub.status.busy": "2023-02-28T05:15:30.237590Z",
     "iopub.status.idle": "2023-02-28T05:15:30.244875Z",
     "shell.execute_reply": "2023-02-28T05:15:30.243563Z"
    },
    "papermill": {
     "duration": 0.038959,
     "end_time": "2023-02-28T05:15:30.247341",
     "exception": false,
     "start_time": "2023-02-28T05:15:30.208382",
     "status": "completed"
    },
    "tags": []
   },
   "outputs": [
    {
     "name": "stdout",
     "output_type": "stream",
     "text": [
      "25667399.361122247\n",
      "25521524.106817637\n"
     ]
    }
   ],
   "source": [
    "print(data_men_sample.Purchase.var())\n",
    "print(data_women_sample.Purchase.var())"
   ]
  },
  {
   "cell_type": "code",
   "execution_count": 57,
   "id": "bb5c5837",
   "metadata": {
    "execution": {
     "iopub.execute_input": "2023-02-28T05:15:30.303732Z",
     "iopub.status.busy": "2023-02-28T05:15:30.303320Z",
     "iopub.status.idle": "2023-02-28T05:15:30.309542Z",
     "shell.execute_reply": "2023-02-28T05:15:30.308509Z"
    },
    "papermill": {
     "duration": 0.038718,
     "end_time": "2023-02-28T05:15:30.313317",
     "exception": false,
     "start_time": "2023-02-28T05:15:30.274599",
     "status": "completed"
    },
    "tags": []
   },
   "outputs": [
    {
     "name": "stdout",
     "output_type": "stream",
     "text": [
      "11767.16\n",
      "10829.414\n"
     ]
    }
   ],
   "source": [
    "print(data_men_sample.Purchase.mean())\n",
    "print(data_women_sample.Purchase.mean())"
   ]
  },
  {
   "cell_type": "code",
   "execution_count": 58,
   "id": "c94b95af",
   "metadata": {
    "execution": {
     "iopub.execute_input": "2023-02-28T05:15:30.370855Z",
     "iopub.status.busy": "2023-02-28T05:15:30.370434Z",
     "iopub.status.idle": "2023-02-28T05:15:30.378806Z",
     "shell.execute_reply": "2023-02-28T05:15:30.377584Z"
    },
    "papermill": {
     "duration": 0.039307,
     "end_time": "2023-02-28T05:15:30.381178",
     "exception": false,
     "start_time": "2023-02-28T05:15:30.341871",
     "status": "completed"
    },
    "tags": []
   },
   "outputs": [
    {
     "data": {
      "text/plain": [
       "1.0865924970640146"
      ]
     },
     "execution_count": 58,
     "metadata": {},
     "output_type": "execute_result"
    }
   ],
   "source": [
    "from scipy.stats import f \n",
    "F = data_men_sample.Purchase.mean()/data_women_sample.Purchase.mean()\n",
    "F"
   ]
  },
  {
   "cell_type": "code",
   "execution_count": 59,
   "id": "0a24b6b0",
   "metadata": {
    "execution": {
     "iopub.execute_input": "2023-02-28T05:15:30.437342Z",
     "iopub.status.busy": "2023-02-28T05:15:30.436913Z",
     "iopub.status.idle": "2023-02-28T05:15:30.442663Z",
     "shell.execute_reply": "2023-02-28T05:15:30.441405Z"
    },
    "papermill": {
     "duration": 0.037794,
     "end_time": "2023-02-28T05:15:30.445774",
     "exception": false,
     "start_time": "2023-02-28T05:15:30.407980",
     "status": "completed"
    },
    "tags": []
   },
   "outputs": [
    {
     "name": "stdout",
     "output_type": "stream",
     "text": [
      "499 499\n"
     ]
    }
   ],
   "source": [
    "df1 = len(data_men_sample) - 1\n",
    "df2 = len(data_women_sample) - 1\n",
    "\n",
    "print(df1, df2)"
   ]
  },
  {
   "cell_type": "code",
   "execution_count": 60,
   "id": "c060b691",
   "metadata": {
    "execution": {
     "iopub.execute_input": "2023-02-28T05:15:30.503153Z",
     "iopub.status.busy": "2023-02-28T05:15:30.502722Z",
     "iopub.status.idle": "2023-02-28T05:15:30.510298Z",
     "shell.execute_reply": "2023-02-28T05:15:30.508966Z"
    },
    "papermill": {
     "duration": 0.038653,
     "end_time": "2023-02-28T05:15:30.512617",
     "exception": false,
     "start_time": "2023-02-28T05:15:30.473964",
     "status": "completed"
    },
    "tags": []
   },
   "outputs": [
    {
     "data": {
      "text/plain": [
       "0.8230271634096517"
      ]
     },
     "execution_count": 60,
     "metadata": {},
     "output_type": "execute_result"
    }
   ],
   "source": [
    "import scipy\n",
    "scipy.stats.f.cdf(F, df1, df2)"
   ]
  },
  {
   "cell_type": "markdown",
   "id": "160b38ce",
   "metadata": {
    "papermill": {
     "duration": 0.026865,
     "end_time": "2023-02-28T05:15:30.566995",
     "exception": false,
     "start_time": "2023-02-28T05:15:30.540130",
     "status": "completed"
    },
    "tags": []
   },
   "source": [
    "accept the hypothesis"
   ]
  },
  {
   "cell_type": "markdown",
   "id": "270c495f",
   "metadata": {
    "papermill": {
     "duration": 0.027032,
     "end_time": "2023-02-28T05:15:30.620733",
     "exception": false,
     "start_time": "2023-02-28T05:15:30.593701",
     "status": "completed"
    },
    "tags": []
   },
   "source": [
    "Is the percentage of men who have spent more than 10000 the same for the ages 18-25 and 26-35?"
   ]
  },
  {
   "cell_type": "code",
   "execution_count": 61,
   "id": "86b663bc",
   "metadata": {
    "execution": {
     "iopub.execute_input": "2023-02-28T05:15:30.677133Z",
     "iopub.status.busy": "2023-02-28T05:15:30.676655Z",
     "iopub.status.idle": "2023-02-28T05:15:30.691418Z",
     "shell.execute_reply": "2023-02-28T05:15:30.690138Z"
    },
    "papermill": {
     "duration": 0.04614,
     "end_time": "2023-02-28T05:15:30.694019",
     "exception": false,
     "start_time": "2023-02-28T05:15:30.647879",
     "status": "completed"
    },
    "tags": []
   },
   "outputs": [],
   "source": [
    "data_age1 = data.loc[(data['Age'] == 1) & (data['Purchase'] > 10000)]\n",
    "data_age2 = data.loc[(data['Age'] == 2) & (data['Purchase'] > 10000)]"
   ]
  },
  {
   "cell_type": "code",
   "execution_count": 62,
   "id": "36bd2fe3",
   "metadata": {
    "execution": {
     "iopub.execute_input": "2023-02-28T05:15:30.751675Z",
     "iopub.status.busy": "2023-02-28T05:15:30.750876Z",
     "iopub.status.idle": "2023-02-28T05:15:30.760921Z",
     "shell.execute_reply": "2023-02-28T05:15:30.759697Z"
    },
    "papermill": {
     "duration": 0.041975,
     "end_time": "2023-02-28T05:15:30.763596",
     "exception": false,
     "start_time": "2023-02-28T05:15:30.721621",
     "status": "completed"
    },
    "tags": []
   },
   "outputs": [],
   "source": [
    "data_age1_sample = data_age1.sample(1000, random_state=0)\n",
    "data_age2_sample = data_age2.sample(1000, random_state=0)"
   ]
  },
  {
   "cell_type": "code",
   "execution_count": 63,
   "id": "9ce8f463",
   "metadata": {
    "execution": {
     "iopub.execute_input": "2023-02-28T05:15:30.820006Z",
     "iopub.status.busy": "2023-02-28T05:15:30.819605Z",
     "iopub.status.idle": "2023-02-28T05:15:30.826674Z",
     "shell.execute_reply": "2023-02-28T05:15:30.825213Z"
    },
    "papermill": {
     "duration": 0.038122,
     "end_time": "2023-02-28T05:15:30.828856",
     "exception": false,
     "start_time": "2023-02-28T05:15:30.790734",
     "status": "completed"
    },
    "tags": []
   },
   "outputs": [],
   "source": [
    "count = [(data_age1_sample['Gender'] == 1).sum(), (data_age2_sample['Gender'] == 1).sum()]\n",
    "\n",
    "nobs = [(len(data_age1_sample)), len(data_age2_sample)]"
   ]
  },
  {
   "cell_type": "code",
   "execution_count": 64,
   "id": "c0c00d71",
   "metadata": {
    "execution": {
     "iopub.execute_input": "2023-02-28T05:15:30.886493Z",
     "iopub.status.busy": "2023-02-28T05:15:30.886109Z",
     "iopub.status.idle": "2023-02-28T05:15:30.892754Z",
     "shell.execute_reply": "2023-02-28T05:15:30.891671Z"
    },
    "papermill": {
     "duration": 0.038451,
     "end_time": "2023-02-28T05:15:30.894967",
     "exception": false,
     "start_time": "2023-02-28T05:15:30.856516",
     "status": "completed"
    },
    "tags": []
   },
   "outputs": [
    {
     "data": {
      "text/plain": [
       "[789, 816]"
      ]
     },
     "execution_count": 64,
     "metadata": {},
     "output_type": "execute_result"
    }
   ],
   "source": [
    "count"
   ]
  },
  {
   "cell_type": "code",
   "execution_count": 65,
   "id": "8dc6b791",
   "metadata": {
    "execution": {
     "iopub.execute_input": "2023-02-28T05:15:30.952531Z",
     "iopub.status.busy": "2023-02-28T05:15:30.952093Z",
     "iopub.status.idle": "2023-02-28T05:15:30.958906Z",
     "shell.execute_reply": "2023-02-28T05:15:30.957814Z"
    },
    "papermill": {
     "duration": 0.038722,
     "end_time": "2023-02-28T05:15:30.961297",
     "exception": false,
     "start_time": "2023-02-28T05:15:30.922575",
     "status": "completed"
    },
    "tags": []
   },
   "outputs": [
    {
     "data": {
      "text/plain": [
       "[1000, 1000]"
      ]
     },
     "execution_count": 65,
     "metadata": {},
     "output_type": "execute_result"
    }
   ],
   "source": [
    "nobs"
   ]
  },
  {
   "cell_type": "code",
   "execution_count": 66,
   "id": "8f51aa29",
   "metadata": {
    "execution": {
     "iopub.execute_input": "2023-02-28T05:15:31.019668Z",
     "iopub.status.busy": "2023-02-28T05:15:31.019242Z",
     "iopub.status.idle": "2023-02-28T05:15:31.024723Z",
     "shell.execute_reply": "2023-02-28T05:15:31.023531Z"
    },
    "papermill": {
     "duration": 0.037722,
     "end_time": "2023-02-28T05:15:31.027141",
     "exception": false,
     "start_time": "2023-02-28T05:15:30.989419",
     "status": "completed"
    },
    "tags": []
   },
   "outputs": [],
   "source": [
    "from statsmodels.stats.proportion import proportions_ztest\n",
    "stat_2sample, p_value_2sample = proportions_ztest(count=count, nobs=nobs)"
   ]
  },
  {
   "cell_type": "code",
   "execution_count": 67,
   "id": "1b9848b1",
   "metadata": {
    "execution": {
     "iopub.execute_input": "2023-02-28T05:15:31.084976Z",
     "iopub.status.busy": "2023-02-28T05:15:31.084603Z",
     "iopub.status.idle": "2023-02-28T05:15:31.091364Z",
     "shell.execute_reply": "2023-02-28T05:15:31.090209Z"
    },
    "papermill": {
     "duration": 0.038722,
     "end_time": "2023-02-28T05:15:31.093607",
     "exception": false,
     "start_time": "2023-02-28T05:15:31.054885",
     "status": "completed"
    },
    "tags": []
   },
   "outputs": [
    {
     "data": {
      "text/plain": [
       "0.12939272225896914"
      ]
     },
     "execution_count": 67,
     "metadata": {},
     "output_type": "execute_result"
    }
   ],
   "source": [
    "p_value_2sample"
   ]
  },
  {
   "cell_type": "markdown",
   "id": "c4cda867",
   "metadata": {
    "papermill": {
     "duration": 0.027319,
     "end_time": "2023-02-28T05:15:31.149562",
     "exception": false,
     "start_time": "2023-02-28T05:15:31.122243",
     "status": "completed"
    },
    "tags": []
   },
   "source": [
    "accept the hypothesis"
   ]
  },
  {
   "cell_type": "code",
   "execution_count": null,
   "id": "3b83cfb5",
   "metadata": {
    "papermill": {
     "duration": 0.027289,
     "end_time": "2023-02-28T05:15:31.204921",
     "exception": false,
     "start_time": "2023-02-28T05:15:31.177632",
     "status": "completed"
    },
    "tags": []
   },
   "outputs": [],
   "source": []
  },
  {
   "cell_type": "code",
   "execution_count": null,
   "id": "3cf17245",
   "metadata": {
    "papermill": {
     "duration": 0.027547,
     "end_time": "2023-02-28T05:15:31.260435",
     "exception": false,
     "start_time": "2023-02-28T05:15:31.232888",
     "status": "completed"
    },
    "tags": []
   },
   "outputs": [],
   "source": []
  }
 ],
 "metadata": {
  "kernelspec": {
   "display_name": "Python 3",
   "language": "python",
   "name": "python3"
  },
  "language_info": {
   "codemirror_mode": {
    "name": "ipython",
    "version": 3
   },
   "file_extension": ".py",
   "mimetype": "text/x-python",
   "name": "python",
   "nbconvert_exporter": "python",
   "pygments_lexer": "ipython3",
   "version": "3.7.12"
  },
  "papermill": {
   "default_parameters": {},
   "duration": 32.106941,
   "end_time": "2023-02-28T05:15:32.109983",
   "environment_variables": {},
   "exception": null,
   "input_path": "__notebook__.ipynb",
   "output_path": "__notebook__.ipynb",
   "parameters": {},
   "start_time": "2023-02-28T05:15:00.003042",
   "version": "2.4.0"
  }
 },
 "nbformat": 4,
 "nbformat_minor": 5
}
